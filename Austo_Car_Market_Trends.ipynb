{
  "cells": [
    {
      "cell_type": "markdown",
      "metadata": {
        "id": "view-in-github",
        "colab_type": "text"
      },
      "source": [
        "<a href=\"https://colab.research.google.com/github/Sourav-95/EDA_with_python/blob/main/Austo_Car_Market_Trends.ipynb\" target=\"_parent\"><img src=\"https://colab.research.google.com/assets/colab-badge.svg\" alt=\"Open In Colab\"/></a>"
      ]
    },
    {
      "cell_type": "markdown",
      "id": "5685b16c",
      "metadata": {
        "id": "5685b16c"
      },
      "source": [
        "<font color='black'>\n",
        "<font size=5>\n",
        "Business Statement \n",
        "<font color='blue'>\n",
        "<br>\n",
        "<font size=4>\n",
        "Austo Motor Company is a leading car manufacturer specializing in SUV, Sedan, and Hatchback models. In its recent board meeting, concerns were raised by the members on the efficiency of the marketing campaign currently being used. The board decides to rope in an analytics professional to improve the existing campaign. We have to dig insight from the dataset and pull out trend and pattern that benefit the marketing team to improve the campaign\n",
        "</font>"
      ]
    },
    {
      "cell_type": "code",
      "source": [
        "from google.colab import drive\n",
        "drive.mount('/content/drive')"
      ],
      "metadata": {
        "colab": {
          "base_uri": "https://localhost:8080/"
        },
        "id": "MzPCExzq8hP-",
        "outputId": "a0cb17bc-4877-4242-a4a2-d0c3360ae57e"
      },
      "id": "MzPCExzq8hP-",
      "execution_count": 1,
      "outputs": [
        {
          "output_type": "stream",
          "name": "stdout",
          "text": [
            "Mounted at /content/drive\n"
          ]
        }
      ]
    },
    {
      "cell_type": "code",
      "execution_count": 2,
      "id": "8ee0e178",
      "metadata": {
        "id": "8ee0e178"
      },
      "outputs": [],
      "source": [
        "#importing libuaries\n",
        "import numpy as np\n",
        "import pandas as pd\n",
        "import matplotlib.pyplot as plt\n",
        "import seaborn as sns"
      ]
    },
    {
      "cell_type": "code",
      "execution_count": 3,
      "id": "40c73146",
      "metadata": {
        "id": "40c73146"
      },
      "outputs": [],
      "source": [
        "#loading the dataset\n",
        "austo = pd.read_csv('/content/drive/MyDrive/Projects/02 SMDM Project/austo_automobile.csv')"
      ]
    },
    {
      "cell_type": "markdown",
      "id": "642340e7",
      "metadata": {
        "id": "642340e7"
      },
      "source": [
        "<font color ='black'>\n",
        "<font size=4>\n",
        "Information about the dataset\n",
        "</font>"
      ]
    },
    {
      "cell_type": "code",
      "execution_count": 4,
      "id": "251cd1a0",
      "metadata": {
        "colab": {
          "base_uri": "https://localhost:8080/"
        },
        "id": "251cd1a0",
        "outputId": "9a601d3a-a5d2-4d0d-ade5-3b0d2f93d900"
      },
      "outputs": [
        {
          "output_type": "stream",
          "name": "stdout",
          "text": [
            "The No. of Customers in the dataset are: 1581 \n",
            "The Total features available for each Customers are: 14\n"
          ]
        }
      ],
      "source": [
        "#dimension of the dataset\n",
        "print (\"The No. of Customers in the dataset are:\",austo.shape[0], \"\\nThe Total features available for each Customers are:\" ,austo.shape[1])"
      ]
    },
    {
      "cell_type": "code",
      "execution_count": 5,
      "id": "3e446279",
      "metadata": {
        "colab": {
          "base_uri": "https://localhost:8080/"
        },
        "id": "3e446279",
        "outputId": "b393ec0f-5f95-469e-e837-694c091fc717"
      },
      "outputs": [
        {
          "output_type": "stream",
          "name": "stdout",
          "text": [
            "<class 'pandas.core.frame.DataFrame'>\n",
            "RangeIndex: 1581 entries, 0 to 1580\n",
            "Data columns (total 14 columns):\n",
            " #   Column            Non-Null Count  Dtype  \n",
            "---  ------            --------------  -----  \n",
            " 0   Age               1581 non-null   int64  \n",
            " 1   Gender            1528 non-null   object \n",
            " 2   Profession        1581 non-null   object \n",
            " 3   Marital_status    1581 non-null   object \n",
            " 4   Education         1581 non-null   object \n",
            " 5   No_of_Dependents  1581 non-null   int64  \n",
            " 6   Personal_loan     1581 non-null   object \n",
            " 7   House_loan        1581 non-null   object \n",
            " 8   Partner_working   1581 non-null   object \n",
            " 9   Salary            1581 non-null   int64  \n",
            " 10  Partner_salary    1475 non-null   float64\n",
            " 11  Total_salary      1581 non-null   int64  \n",
            " 12  Price             1581 non-null   int64  \n",
            " 13  Make              1581 non-null   object \n",
            "dtypes: float64(1), int64(5), object(8)\n",
            "memory usage: 173.0+ KB\n"
          ]
        }
      ],
      "source": [
        "#information on the dataset\n",
        "austo.info()"
      ]
    },
    {
      "cell_type": "markdown",
      "id": "64649b0f",
      "metadata": {
        "id": "64649b0f"
      },
      "source": [
        "<font color='Red'>\n",
        "<font size=4>\n",
        "Observation\n",
        "<font color='black'>\n",
        "<font size=2>\n",
        "<br>\n",
        "1. There are 1581 Rows & 14 Columns in the Dataset\n",
        "<br>2. There are 8 Object type data, 5 integer type Data & 1 Float type dataThere are 8 Object type data, 5 integer type Data & 1 Float type data\n",
        "<br>3. There are some null vales in the Column Gender\n",
        "<br>4. Some of the Partner are not working hence Partner_salary has null values which are needed to be checked & treated"
      ]
    },
    {
      "cell_type": "markdown",
      "id": "a0a7f7ac",
      "metadata": {
        "id": "a0a7f7ac"
      },
      "source": [
        "<font color='blue'>\n",
        "    <font size=5>\n",
        "        -> Preliminary Analysis of the Data, Consistency of the Variables, Checking of discrepancies in the data\n",
        "    </font>"
      ]
    },
    {
      "cell_type": "code",
      "execution_count": 6,
      "id": "f49fb03f",
      "metadata": {
        "colab": {
          "base_uri": "https://localhost:8080/",
          "height": 238
        },
        "id": "f49fb03f",
        "outputId": "a172c5ac-3eda-47e7-ce08-8d2208f749e7"
      },
      "outputs": [
        {
          "output_type": "execute_result",
          "data": {
            "text/plain": [
              "                   count          mean           std      min      25%  \\\n",
              "Age               1581.0     31.922201      8.425978     22.0     25.0   \n",
              "No_of_Dependents  1581.0      2.457938      0.943483      0.0      2.0   \n",
              "Salary            1581.0  60392.220114  14674.825044  30000.0  51900.0   \n",
              "Partner_salary    1475.0  20225.559322  19573.149277      0.0      0.0   \n",
              "Total_salary      1581.0  79625.996205  25545.857768  30000.0  60500.0   \n",
              "Price             1581.0  35597.722960  13633.636545  18000.0  25000.0   \n",
              "\n",
              "                      50%      75%       max  \n",
              "Age                  29.0     38.0      54.0  \n",
              "No_of_Dependents      2.0      3.0       4.0  \n",
              "Salary            59500.0  71800.0   99300.0  \n",
              "Partner_salary    25600.0  38300.0   80500.0  \n",
              "Total_salary      78000.0  95900.0  171000.0  \n",
              "Price             31000.0  47000.0   70000.0  "
            ],
            "text/html": [
              "\n",
              "  <div id=\"df-8f7ab634-ddb7-4024-859c-f7484e59b30c\">\n",
              "    <div class=\"colab-df-container\">\n",
              "      <div>\n",
              "<style scoped>\n",
              "    .dataframe tbody tr th:only-of-type {\n",
              "        vertical-align: middle;\n",
              "    }\n",
              "\n",
              "    .dataframe tbody tr th {\n",
              "        vertical-align: top;\n",
              "    }\n",
              "\n",
              "    .dataframe thead th {\n",
              "        text-align: right;\n",
              "    }\n",
              "</style>\n",
              "<table border=\"1\" class=\"dataframe\">\n",
              "  <thead>\n",
              "    <tr style=\"text-align: right;\">\n",
              "      <th></th>\n",
              "      <th>count</th>\n",
              "      <th>mean</th>\n",
              "      <th>std</th>\n",
              "      <th>min</th>\n",
              "      <th>25%</th>\n",
              "      <th>50%</th>\n",
              "      <th>75%</th>\n",
              "      <th>max</th>\n",
              "    </tr>\n",
              "  </thead>\n",
              "  <tbody>\n",
              "    <tr>\n",
              "      <th>Age</th>\n",
              "      <td>1581.0</td>\n",
              "      <td>31.922201</td>\n",
              "      <td>8.425978</td>\n",
              "      <td>22.0</td>\n",
              "      <td>25.0</td>\n",
              "      <td>29.0</td>\n",
              "      <td>38.0</td>\n",
              "      <td>54.0</td>\n",
              "    </tr>\n",
              "    <tr>\n",
              "      <th>No_of_Dependents</th>\n",
              "      <td>1581.0</td>\n",
              "      <td>2.457938</td>\n",
              "      <td>0.943483</td>\n",
              "      <td>0.0</td>\n",
              "      <td>2.0</td>\n",
              "      <td>2.0</td>\n",
              "      <td>3.0</td>\n",
              "      <td>4.0</td>\n",
              "    </tr>\n",
              "    <tr>\n",
              "      <th>Salary</th>\n",
              "      <td>1581.0</td>\n",
              "      <td>60392.220114</td>\n",
              "      <td>14674.825044</td>\n",
              "      <td>30000.0</td>\n",
              "      <td>51900.0</td>\n",
              "      <td>59500.0</td>\n",
              "      <td>71800.0</td>\n",
              "      <td>99300.0</td>\n",
              "    </tr>\n",
              "    <tr>\n",
              "      <th>Partner_salary</th>\n",
              "      <td>1475.0</td>\n",
              "      <td>20225.559322</td>\n",
              "      <td>19573.149277</td>\n",
              "      <td>0.0</td>\n",
              "      <td>0.0</td>\n",
              "      <td>25600.0</td>\n",
              "      <td>38300.0</td>\n",
              "      <td>80500.0</td>\n",
              "    </tr>\n",
              "    <tr>\n",
              "      <th>Total_salary</th>\n",
              "      <td>1581.0</td>\n",
              "      <td>79625.996205</td>\n",
              "      <td>25545.857768</td>\n",
              "      <td>30000.0</td>\n",
              "      <td>60500.0</td>\n",
              "      <td>78000.0</td>\n",
              "      <td>95900.0</td>\n",
              "      <td>171000.0</td>\n",
              "    </tr>\n",
              "    <tr>\n",
              "      <th>Price</th>\n",
              "      <td>1581.0</td>\n",
              "      <td>35597.722960</td>\n",
              "      <td>13633.636545</td>\n",
              "      <td>18000.0</td>\n",
              "      <td>25000.0</td>\n",
              "      <td>31000.0</td>\n",
              "      <td>47000.0</td>\n",
              "      <td>70000.0</td>\n",
              "    </tr>\n",
              "  </tbody>\n",
              "</table>\n",
              "</div>\n",
              "      <button class=\"colab-df-convert\" onclick=\"convertToInteractive('df-8f7ab634-ddb7-4024-859c-f7484e59b30c')\"\n",
              "              title=\"Convert this dataframe to an interactive table.\"\n",
              "              style=\"display:none;\">\n",
              "        \n",
              "  <svg xmlns=\"http://www.w3.org/2000/svg\" height=\"24px\"viewBox=\"0 0 24 24\"\n",
              "       width=\"24px\">\n",
              "    <path d=\"M0 0h24v24H0V0z\" fill=\"none\"/>\n",
              "    <path d=\"M18.56 5.44l.94 2.06.94-2.06 2.06-.94-2.06-.94-.94-2.06-.94 2.06-2.06.94zm-11 1L8.5 8.5l.94-2.06 2.06-.94-2.06-.94L8.5 2.5l-.94 2.06-2.06.94zm10 10l.94 2.06.94-2.06 2.06-.94-2.06-.94-.94-2.06-.94 2.06-2.06.94z\"/><path d=\"M17.41 7.96l-1.37-1.37c-.4-.4-.92-.59-1.43-.59-.52 0-1.04.2-1.43.59L10.3 9.45l-7.72 7.72c-.78.78-.78 2.05 0 2.83L4 21.41c.39.39.9.59 1.41.59.51 0 1.02-.2 1.41-.59l7.78-7.78 2.81-2.81c.8-.78.8-2.07 0-2.86zM5.41 20L4 18.59l7.72-7.72 1.47 1.35L5.41 20z\"/>\n",
              "  </svg>\n",
              "      </button>\n",
              "      \n",
              "  <style>\n",
              "    .colab-df-container {\n",
              "      display:flex;\n",
              "      flex-wrap:wrap;\n",
              "      gap: 12px;\n",
              "    }\n",
              "\n",
              "    .colab-df-convert {\n",
              "      background-color: #E8F0FE;\n",
              "      border: none;\n",
              "      border-radius: 50%;\n",
              "      cursor: pointer;\n",
              "      display: none;\n",
              "      fill: #1967D2;\n",
              "      height: 32px;\n",
              "      padding: 0 0 0 0;\n",
              "      width: 32px;\n",
              "    }\n",
              "\n",
              "    .colab-df-convert:hover {\n",
              "      background-color: #E2EBFA;\n",
              "      box-shadow: 0px 1px 2px rgba(60, 64, 67, 0.3), 0px 1px 3px 1px rgba(60, 64, 67, 0.15);\n",
              "      fill: #174EA6;\n",
              "    }\n",
              "\n",
              "    [theme=dark] .colab-df-convert {\n",
              "      background-color: #3B4455;\n",
              "      fill: #D2E3FC;\n",
              "    }\n",
              "\n",
              "    [theme=dark] .colab-df-convert:hover {\n",
              "      background-color: #434B5C;\n",
              "      box-shadow: 0px 1px 3px 1px rgba(0, 0, 0, 0.15);\n",
              "      filter: drop-shadow(0px 1px 2px rgba(0, 0, 0, 0.3));\n",
              "      fill: #FFFFFF;\n",
              "    }\n",
              "  </style>\n",
              "\n",
              "      <script>\n",
              "        const buttonEl =\n",
              "          document.querySelector('#df-8f7ab634-ddb7-4024-859c-f7484e59b30c button.colab-df-convert');\n",
              "        buttonEl.style.display =\n",
              "          google.colab.kernel.accessAllowed ? 'block' : 'none';\n",
              "\n",
              "        async function convertToInteractive(key) {\n",
              "          const element = document.querySelector('#df-8f7ab634-ddb7-4024-859c-f7484e59b30c');\n",
              "          const dataTable =\n",
              "            await google.colab.kernel.invokeFunction('convertToInteractive',\n",
              "                                                     [key], {});\n",
              "          if (!dataTable) return;\n",
              "\n",
              "          const docLinkHtml = 'Like what you see? Visit the ' +\n",
              "            '<a target=\"_blank\" href=https://colab.research.google.com/notebooks/data_table.ipynb>data table notebook</a>'\n",
              "            + ' to learn more about interactive tables.';\n",
              "          element.innerHTML = '';\n",
              "          dataTable['output_type'] = 'display_data';\n",
              "          await google.colab.output.renderOutput(dataTable, element);\n",
              "          const docLink = document.createElement('div');\n",
              "          docLink.innerHTML = docLinkHtml;\n",
              "          element.appendChild(docLink);\n",
              "        }\n",
              "      </script>\n",
              "    </div>\n",
              "  </div>\n",
              "  "
            ]
          },
          "metadata": {},
          "execution_count": 6
        }
      ],
      "source": [
        "#summary of the dataset\n",
        "austo.describe().T"
      ]
    },
    {
      "cell_type": "code",
      "execution_count": 7,
      "id": "e6f34665",
      "metadata": {
        "colab": {
          "base_uri": "https://localhost:8080/"
        },
        "id": "e6f34665",
        "outputId": "c3af15db-0e56-4b56-85ba-78f2599b03c5"
      },
      "outputs": [
        {
          "output_type": "execute_result",
          "data": {
            "text/plain": [
              "Age                   0\n",
              "Gender               53\n",
              "Profession            0\n",
              "Marital_status        0\n",
              "Education             0\n",
              "No_of_Dependents      0\n",
              "Personal_loan         0\n",
              "House_loan            0\n",
              "Partner_working       0\n",
              "Salary                0\n",
              "Partner_salary      106\n",
              "Total_salary          0\n",
              "Price                 0\n",
              "Make                  0\n",
              "dtype: int64"
            ]
          },
          "metadata": {},
          "execution_count": 7
        }
      ],
      "source": [
        "#Finding the null values in the dataset\n",
        "austo.isnull().sum()"
      ]
    },
    {
      "cell_type": "markdown",
      "id": "60595194",
      "metadata": {
        "id": "60595194"
      },
      "source": [
        "*Gender & Partner_salary has bad data, hence both needed to be checked & treated. We also hae to check the anomalies of the dataset*"
      ]
    },
    {
      "cell_type": "code",
      "execution_count": 8,
      "id": "113d804f",
      "metadata": {
        "colab": {
          "base_uri": "https://localhost:8080/"
        },
        "id": "113d804f",
        "outputId": "106febf0-6057-490b-886f-3a788a6c77f1"
      },
      "outputs": [
        {
          "output_type": "execute_result",
          "data": {
            "text/plain": [
              "array(['Male', 'Femal', 'Female', nan, 'Femle'], dtype=object)"
            ]
          },
          "metadata": {},
          "execution_count": 8
        }
      ],
      "source": [
        "#viewing the values in the column Gender\n",
        "austo.Gender.unique()"
      ]
    },
    {
      "cell_type": "raw",
      "id": "3c5996fb",
      "metadata": {
        "id": "3c5996fb"
      },
      "source": [
        "We found that there are multiple discrepancies in the Gender column other than null values which are need to be treated"
      ]
    },
    {
      "cell_type": "code",
      "execution_count": 9,
      "id": "0d8aa8e6",
      "metadata": {
        "id": "0d8aa8e6"
      },
      "outputs": [],
      "source": [
        "#replacing the wring entries\n",
        "austo['Gender'].replace('Femal', 'Female', inplace=True)\n",
        "austo['Gender'].replace('Femle', 'Female', inplace=True)"
      ]
    },
    {
      "cell_type": "code",
      "source": [
        "#checking the description of the Gender Feature\n",
        "austo.Gender.describe()"
      ],
      "metadata": {
        "colab": {
          "base_uri": "https://localhost:8080/"
        },
        "id": "ey2XBwAmBh17",
        "outputId": "b755c253-6ae0-4a89-bbb4-28b8fc96ae2d"
      },
      "id": "ey2XBwAmBh17",
      "execution_count": 10,
      "outputs": [
        {
          "output_type": "execute_result",
          "data": {
            "text/plain": [
              "count     1528\n",
              "unique       2\n",
              "top       Male\n",
              "freq      1199\n",
              "Name: Gender, dtype: object"
            ]
          },
          "metadata": {},
          "execution_count": 10
        }
      ]
    },
    {
      "cell_type": "markdown",
      "source": [
        "Male are frequently occuring. Hence we can impute the Null values of Gender with Male"
      ],
      "metadata": {
        "id": "UMW1agWcB5FV"
      },
      "id": "UMW1agWcB5FV"
    },
    {
      "cell_type": "code",
      "source": [
        "austo['Gender'].fillna('Male', inplace=True)"
      ],
      "metadata": {
        "id": "OOjidig5CHla"
      },
      "id": "OOjidig5CHla",
      "execution_count": 11,
      "outputs": []
    },
    {
      "cell_type": "code",
      "execution_count": 12,
      "id": "7a44b171",
      "metadata": {
        "colab": {
          "base_uri": "https://localhost:8080/"
        },
        "id": "7a44b171",
        "outputId": "e09e0322-070e-43e5-c928-020165bb0682"
      },
      "outputs": [
        {
          "output_type": "execute_result",
          "data": {
            "text/plain": [
              "array(['Male', 'Female'], dtype=object)"
            ]
          },
          "metadata": {},
          "execution_count": 12
        }
      ],
      "source": [
        "#rechecking the variable after treating the bad data\n",
        "austo.Gender.unique()"
      ]
    },
    {
      "cell_type": "code",
      "execution_count": 13,
      "id": "b574861a",
      "metadata": {
        "colab": {
          "base_uri": "https://localhost:8080/"
        },
        "id": "b574861a",
        "outputId": "6d963ff2-f417-43f5-bf1c-02d0f5557141"
      },
      "outputs": [
        {
          "output_type": "execute_result",
          "data": {
            "text/plain": [
              "array([70700., 70300., 60700., 60200., 60500., 50800., 40400.,     0.,\n",
              "       70600., 60600., 60300., 45500., 40200., 40700.,   600.,   700.,\n",
              "       27800., 70000., 40100., 40900., 27000.,    nan, 40500., 50400.,\n",
              "       80400., 60900., 60100., 70200., 30000., 40300., 40800., 70800.,\n",
              "         900., 45000., 40600., 50700., 80500., 27700., 35800., 26600.,\n",
              "       60000., 27900., 60800., 40000., 70100., 38100., 38200., 30200.,\n",
              "       38500., 50900., 35100., 38700., 38300., 38900., 23200., 24700.,\n",
              "       30800., 28100., 38400., 38000., 23100., 30100., 25700., 70400.,\n",
              "         200., 30900., 26100., 45700.,   400., 28200., 70900., 38800.,\n",
              "       45200., 26800., 60400., 30300., 25800.,   800., 38600., 24500.,\n",
              "       30700., 28500., 24900., 70500., 35900., 30500., 28900., 27200.,\n",
              "       45900., 25300., 35600., 25000., 25200., 26300., 35700., 23800.,\n",
              "       32700., 30600., 45600., 28000., 32600., 28600., 25100., 26700.,\n",
              "       24200., 25900., 22100., 25400., 28400., 28300., 25500., 24000.,\n",
              "       32400., 28800., 32300., 32900., 27600., 35500., 23500., 45400.,\n",
              "       28700., 32800., 23700., 32500., 35300., 45800., 27300., 22900.,\n",
              "       29800., 30400., 35400., 24300., 29200., 24600.,   100., 50300.,\n",
              "       32000., 32200., 24400., 32100., 22600., 26900.,   300., 20000.,\n",
              "       26200., 22300., 25600.,   500., 35200., 35000.])"
            ]
          },
          "metadata": {},
          "execution_count": 13
        }
      ],
      "source": [
        "#checking the unique entries of partner_salary to check if there is any anomalies in the dataset of partner_salary\n",
        "austo.Partner_salary.unique()"
      ]
    },
    {
      "cell_type": "markdown",
      "id": "0b24a3e7",
      "metadata": {
        "id": "0b24a3e7"
      },
      "source": [
        "Some of the entries Partner_salary are Null, but logically if Partner is not working then Partner_salary can be 0 but if the Partner is working then partner_salary cannot be Null. Hence we have to impute with *Total_salary - Salary*"
      ]
    },
    {
      "cell_type": "code",
      "execution_count": 14,
      "id": "c3aced59",
      "metadata": {
        "id": "c3aced59"
      },
      "outputs": [],
      "source": [
        "#treating the bad data in Partner_salary\n",
        "for i in austo['Partner_working']:\n",
        "    if i == 'Yes':\n",
        "        austo['Partner_salary']=austo['Total_salary']-austo['Salary']\n",
        "    elif i=='No':\n",
        "        austo['Partner_salary']=austo['Partner_salary'].replace(np.nan,0)"
      ]
    },
    {
      "cell_type": "code",
      "source": [
        "#Outlier checking for some features of the dataset\n",
        "plt.figure(figsize=(17,7))\n",
        "plt.subplot(221)\n",
        "sns.boxplot(data=austo, x='Age')\n",
        "\n",
        "plt.subplot(222)\n",
        "sns.boxplot(data=austo, x='Salary')\n",
        "\n",
        "plt.subplot(223)\n",
        "sns.boxplot(data=austo, x='Total_salary')\n",
        "\n",
        "plt.subplot(224)\n",
        "sns.boxplot(data=austo, x='Price')"
      ],
      "metadata": {
        "colab": {
          "base_uri": "https://localhost:8080/",
          "height": 460
        },
        "id": "wkArGxg5Hp5q",
        "outputId": "c1981161-3f35-483f-dcf6-d8907dec6202"
      },
      "id": "wkArGxg5Hp5q",
      "execution_count": 15,
      "outputs": [
        {
          "output_type": "execute_result",
          "data": {
            "text/plain": [
              "<matplotlib.axes._subplots.AxesSubplot at 0x7f91df6c7bb0>"
            ]
          },
          "metadata": {},
          "execution_count": 15
        },
        {
          "output_type": "display_data",
          "data": {
            "text/plain": [
              "<Figure size 1224x504 with 4 Axes>"
            ],
            "image/png": "[encoded data removed]"
          },
          "metadata": {
            "needs_background": "light"
          }
        }
      ]
    },
    {
      "cell_type": "markdown",
      "source": [
        "There are no such outlier present in Age, Salary & Price attribute of the dataset. But Partner_salary may create imbalance in the dataset which resulted in outlier in Total_salary"
      ],
      "metadata": {
        "id": "8ttThlGyPHIx"
      },
      "id": "8ttThlGyPHIx"
    },
    {
      "cell_type": "markdown",
      "id": "c7325ca6",
      "metadata": {
        "id": "c7325ca6"
      },
      "source": [
        "<font color='blue'>\n",
        "<font size=5>\n",
        "    -> Visualization of all the features of the data\n",
        "<font color='black'>\n",
        "<font size=4>\n",
        "<br>\n",
        "  --> Univariate Analysis"
      ]
    },
    {
      "cell_type": "code",
      "source": [
        "austo.columns"
      ],
      "metadata": {
        "colab": {
          "base_uri": "https://localhost:8080/"
        },
        "id": "mKOzRyvVQTrg",
        "outputId": "76f9d599-f22f-41aa-a0a9-cc99a9f7e5c3"
      },
      "id": "mKOzRyvVQTrg",
      "execution_count": 16,
      "outputs": [
        {
          "output_type": "execute_result",
          "data": {
            "text/plain": [
              "Index(['Age', 'Gender', 'Profession', 'Marital_status', 'Education',\n",
              "       'No_of_Dependents', 'Personal_loan', 'House_loan', 'Partner_working',\n",
              "       'Salary', 'Partner_salary', 'Total_salary', 'Price', 'Make'],\n",
              "      dtype='object')"
            ]
          },
          "metadata": {},
          "execution_count": 16
        }
      ]
    },
    {
      "cell_type": "code",
      "execution_count": 17,
      "id": "6d7777ce",
      "metadata": {
        "id": "6d7777ce",
        "outputId": "baae5308-bf8f-493b-86f8-aa1e7ffbccec",
        "colab": {
          "base_uri": "https://localhost:8080/",
          "height": 498
        }
      },
      "outputs": [
        {
          "output_type": "display_data",
          "data": {
            "text/plain": [
              "<Figure size 1080x576 with 4 Axes>"
            ],
            "image/png": "[encoded data removed]"
          },
          "metadata": {
            "needs_background": "light"
          }
        }
      ],
      "source": [
        "#distribution plot of the feature: Age, No_of_Dependents, Total_salary, price\n",
        "fig, axes=plt.subplots(nrows=2, ncols=2, figsize=(15,8))\n",
        "sns.histplot(data=austo, x='Age', kde=True, ax=axes[0][0])\n",
        "sns.countplot(data=austo, x='No_of_Dependents', ax=axes[0][1])\n",
        "sns.histplot(data=austo, x='Total_salary', kde=True, ax=axes[1][0])\n",
        "sns.histplot(data=austo, x='Price', kde=True, ax=axes[1][1])\n",
        "plt.show()"
      ]
    },
    {
      "cell_type": "markdown",
      "id": "3b67a971",
      "metadata": {
        "id": "3b67a971"
      },
      "source": [
        "<font color='Red'>\n",
        "<font size=4>\n",
        "Observations:\n",
        "</>\n",
        "\n",
        "*   Age of the Customer Ranges from minimum of 22 Years to Maximum of 54 Years\n",
        "*   Age is highly Right skewed. From the plot, most of the customers are between 22 to 30 years of age\n",
        "*   75% of the data has 2-3 No_of_Dependents\n",
        "*   Total_Salaries Ranges from 30000 to 171000 with a mean of 79625.99 and have a uniform distribution\n",
        "*   Partner's Salary is highly negatively skewed with a mean value of 19233.77\n",
        "*   Total Salary has almost normal distribution in the dataset but contains multiple outliers which implies there are some customers whose total income is excessively high\n",
        "*   Price Range of Austo Car's is left skewed  with no outliers which implies Most of the customers prefers to buy Car within a budget of 35000"
      ]
    },
    {
      "cell_type": "code",
      "execution_count": 18,
      "id": "d06c8503",
      "metadata": {
        "id": "d06c8503",
        "outputId": "c5dc44c9-7073-4a17-b178-904296cef7e8",
        "colab": {
          "base_uri": "https://localhost:8080/",
          "height": 878
        }
      },
      "outputs": [
        {
          "output_type": "display_data",
          "data": {
            "text/plain": [
              "<Figure size 648x1080 with 6 Axes>"
            ],
            "image/png": "[encoded data removed]"
          },
          "metadata": {
            "needs_background": "light"
          }
        }
      ],
      "source": [
        "fig, axes=plt.subplots(nrows=3, ncols=2, figsize=(9,15))\n",
        "sns.countplot(data=austo, x='Gender', ax=axes[0][0])\n",
        "sns.countplot(data=austo, x='Profession', ax=axes[0][1])\n",
        "sns.countplot(data=austo, x='Marital_status', ax=axes[1][0])\n",
        "sns.countplot(data=austo, x='Education', ax=axes[1][1])\n",
        "sns.countplot(data=austo, x='Personal_loan', ax=axes[2][0])\n",
        "sns.countplot(data=austo, x='House_loan', ax=axes[2][1])\n",
        "plt.show()"
      ]
    },
    {
      "cell_type": "markdown",
      "id": "0933a7a7",
      "metadata": {
        "id": "0933a7a7"
      },
      "source": [
        "<font color='red'>\n",
        "<font size=4>\n",
        "Observations:\n",
        "</>\n",
        "\n",
        "*   Most of the customer counts are Male.\n",
        "*   Salaried person are more purchasing the car than a Business Man\n",
        "*   Married Peoples contributes most in number of purchasing than Singles\n",
        "*   Most of the Customers of Austo Motor Company are Post Graduated\n",
        "*   Customers with Personal Loan & without Personal Loan are almost same.\n",
        "*   Whereas Customers without House_loan are maximum when compared to those who have House_loan"
      ]
    },
    {
      "cell_type": "markdown",
      "id": "bdf2ca46",
      "metadata": {
        "id": "bdf2ca46"
      },
      "source": [
        "<font color='blue'>\n",
        "<font size=5>\n",
        "-> Understanding the relationship between all the features of the data"
      ]
    },
    {
      "cell_type": "markdown",
      "id": "ee83f434",
      "metadata": {
        "id": "ee83f434"
      },
      "source": [
        "<font color='Black'>\n",
        "<font size=4>\n",
        "Bivariate Analysis"
      ]
    },
    {
      "cell_type": "code",
      "execution_count": 19,
      "id": "6b4a9d48",
      "metadata": {
        "id": "6b4a9d48",
        "outputId": "27ef4ca9-269b-42dc-9ced-a796a75f4350",
        "colab": {
          "base_uri": "https://localhost:8080/",
          "height": 283
        }
      },
      "outputs": [
        {
          "output_type": "display_data",
          "data": {
            "text/plain": [
              "<Figure size 432x288 with 1 Axes>"
            ],
            "image/png": "[encoded data removed]"
          },
          "metadata": {
            "needs_background": "light"
          }
        }
      ],
      "source": [
        "sns.barplot(x='Gender', y='Price', ci=None, data=austo);"
      ]
    },
    {
      "cell_type": "markdown",
      "id": "5acd439d",
      "metadata": {
        "id": "5acd439d"
      },
      "source": [
        "*  Females have contributed more Average Revenue than Males"
      ]
    },
    {
      "cell_type": "code",
      "execution_count": 20,
      "id": "397b0b82",
      "metadata": {
        "id": "397b0b82",
        "outputId": "27dc2893-d809-487d-fbab-3150b2dda993",
        "colab": {
          "base_uri": "https://localhost:8080/",
          "height": 279
        }
      },
      "outputs": [
        {
          "output_type": "display_data",
          "data": {
            "text/plain": [
              "<Figure size 432x288 with 1 Axes>"
            ],
            "image/png": "[encoded data removed]"
          },
          "metadata": {
            "needs_background": "light"
          }
        }
      ],
      "source": [
        "sns.barplot(x='Profession', y='Price', ci=None, data=austo);"
      ]
    },
    {
      "cell_type": "code",
      "execution_count": 21,
      "id": "ce261cdd",
      "metadata": {
        "id": "ce261cdd",
        "outputId": "1f228e6e-e365-4058-f25e-17a192ce8178",
        "colab": {
          "base_uri": "https://localhost:8080/",
          "height": 206
        }
      },
      "outputs": [
        {
          "output_type": "execute_result",
          "data": {
            "text/plain": [
              "Profession  Business  Salaried       All\n",
              "Make                                    \n",
              "Hatchback   0.112502  0.113928  0.226463\n",
              "SUV         0.241119  0.237717  0.477531\n",
              "Sedan       0.142551  0.152184  0.296006\n",
              "All         0.471979  0.528021  1.000000"
            ],
            "text/html": [
              "\n",
              "  <div id=\"df-b6fbae4f-2a2b-4902-97b7-31f999481c48\">\n",
              "    <div class=\"colab-df-container\">\n",
              "      <div>\n",
              "<style scoped>\n",
              "    .dataframe tbody tr th:only-of-type {\n",
              "        vertical-align: middle;\n",
              "    }\n",
              "\n",
              "    .dataframe tbody tr th {\n",
              "        vertical-align: top;\n",
              "    }\n",
              "\n",
              "    .dataframe thead th {\n",
              "        text-align: right;\n",
              "    }\n",
              "</style>\n",
              "<table border=\"1\" class=\"dataframe\">\n",
              "  <thead>\n",
              "    <tr style=\"text-align: right;\">\n",
              "      <th>Profession</th>\n",
              "      <th>Business</th>\n",
              "      <th>Salaried</th>\n",
              "      <th>All</th>\n",
              "    </tr>\n",
              "    <tr>\n",
              "      <th>Make</th>\n",
              "      <th></th>\n",
              "      <th></th>\n",
              "      <th></th>\n",
              "    </tr>\n",
              "  </thead>\n",
              "  <tbody>\n",
              "    <tr>\n",
              "      <th>Hatchback</th>\n",
              "      <td>0.112502</td>\n",
              "      <td>0.113928</td>\n",
              "      <td>0.226463</td>\n",
              "    </tr>\n",
              "    <tr>\n",
              "      <th>SUV</th>\n",
              "      <td>0.241119</td>\n",
              "      <td>0.237717</td>\n",
              "      <td>0.477531</td>\n",
              "    </tr>\n",
              "    <tr>\n",
              "      <th>Sedan</th>\n",
              "      <td>0.142551</td>\n",
              "      <td>0.152184</td>\n",
              "      <td>0.296006</td>\n",
              "    </tr>\n",
              "    <tr>\n",
              "      <th>All</th>\n",
              "      <td>0.471979</td>\n",
              "      <td>0.528021</td>\n",
              "      <td>1.000000</td>\n",
              "    </tr>\n",
              "  </tbody>\n",
              "</table>\n",
              "</div>\n",
              "      <button class=\"colab-df-convert\" onclick=\"convertToInteractive('df-b6fbae4f-2a2b-4902-97b7-31f999481c48')\"\n",
              "              title=\"Convert this dataframe to an interactive table.\"\n",
              "              style=\"display:none;\">\n",
              "        \n",
              "  <svg xmlns=\"http://www.w3.org/2000/svg\" height=\"24px\"viewBox=\"0 0 24 24\"\n",
              "       width=\"24px\">\n",
              "    <path d=\"M0 0h24v24H0V0z\" fill=\"none\"/>\n",
              "    <path d=\"M18.56 5.44l.94 2.06.94-2.06 2.06-.94-2.06-.94-.94-2.06-.94 2.06-2.06.94zm-11 1L8.5 8.5l.94-2.06 2.06-.94-2.06-.94L8.5 2.5l-.94 2.06-2.06.94zm10 10l.94 2.06.94-2.06 2.06-.94-2.06-.94-.94-2.06-.94 2.06-2.06.94z\"/><path d=\"M17.41 7.96l-1.37-1.37c-.4-.4-.92-.59-1.43-.59-.52 0-1.04.2-1.43.59L10.3 9.45l-7.72 7.72c-.78.78-.78 2.05 0 2.83L4 21.41c.39.39.9.59 1.41.59.51 0 1.02-.2 1.41-.59l7.78-7.78 2.81-2.81c.8-.78.8-2.07 0-2.86zM5.41 20L4 18.59l7.72-7.72 1.47 1.35L5.41 20z\"/>\n",
              "  </svg>\n",
              "      </button>\n",
              "      \n",
              "  <style>\n",
              "    .colab-df-container {\n",
              "      display:flex;\n",
              "      flex-wrap:wrap;\n",
              "      gap: 12px;\n",
              "    }\n",
              "\n",
              "    .colab-df-convert {\n",
              "      background-color: #E8F0FE;\n",
              "      border: none;\n",
              "      border-radius: 50%;\n",
              "      cursor: pointer;\n",
              "      display: none;\n",
              "      fill: #1967D2;\n",
              "      height: 32px;\n",
              "      padding: 0 0 0 0;\n",
              "      width: 32px;\n",
              "    }\n",
              "\n",
              "    .colab-df-convert:hover {\n",
              "      background-color: #E2EBFA;\n",
              "      box-shadow: 0px 1px 2px rgba(60, 64, 67, 0.3), 0px 1px 3px 1px rgba(60, 64, 67, 0.15);\n",
              "      fill: #174EA6;\n",
              "    }\n",
              "\n",
              "    [theme=dark] .colab-df-convert {\n",
              "      background-color: #3B4455;\n",
              "      fill: #D2E3FC;\n",
              "    }\n",
              "\n",
              "    [theme=dark] .colab-df-convert:hover {\n",
              "      background-color: #434B5C;\n",
              "      box-shadow: 0px 1px 3px 1px rgba(0, 0, 0, 0.15);\n",
              "      filter: drop-shadow(0px 1px 2px rgba(0, 0, 0, 0.3));\n",
              "      fill: #FFFFFF;\n",
              "    }\n",
              "  </style>\n",
              "\n",
              "      <script>\n",
              "        const buttonEl =\n",
              "          document.querySelector('#df-b6fbae4f-2a2b-4902-97b7-31f999481c48 button.colab-df-convert');\n",
              "        buttonEl.style.display =\n",
              "          google.colab.kernel.accessAllowed ? 'block' : 'none';\n",
              "\n",
              "        async function convertToInteractive(key) {\n",
              "          const element = document.querySelector('#df-b6fbae4f-2a2b-4902-97b7-31f999481c48');\n",
              "          const dataTable =\n",
              "            await google.colab.kernel.invokeFunction('convertToInteractive',\n",
              "                                                     [key], {});\n",
              "          if (!dataTable) return;\n",
              "\n",
              "          const docLinkHtml = 'Like what you see? Visit the ' +\n",
              "            '<a target=\"_blank\" href=https://colab.research.google.com/notebooks/data_table.ipynb>data table notebook</a>'\n",
              "            + ' to learn more about interactive tables.';\n",
              "          element.innerHTML = '';\n",
              "          dataTable['output_type'] = 'display_data';\n",
              "          await google.colab.output.renderOutput(dataTable, element);\n",
              "          const docLink = document.createElement('div');\n",
              "          docLink.innerHTML = docLinkHtml;\n",
              "          element.appendChild(docLink);\n",
              "        }\n",
              "      </script>\n",
              "    </div>\n",
              "  </div>\n",
              "  "
            ]
          },
          "metadata": {},
          "execution_count": 21
        }
      ],
      "source": [
        "pd.crosstab( austo.Make, austo.Profession, values=austo.Price, aggfunc=np.mean,  normalize='all',margins=True)"
      ]
    },
    {
      "cell_type": "markdown",
      "id": "692f55a1",
      "metadata": {
        "id": "692f55a1"
      },
      "source": [
        "- Salaried Professionals has slight high purchasing pattern of Austo Car than Business Professionals\n",
        "- 47% of all Professions prefers SUV"
      ]
    },
    {
      "cell_type": "code",
      "execution_count": 22,
      "id": "835d5029",
      "metadata": {
        "id": "835d5029",
        "outputId": "1afa8a26-b6f9-4adf-d0a7-9e17d278fd16",
        "colab": {
          "base_uri": "https://localhost:8080/",
          "height": 280
        }
      },
      "outputs": [
        {
          "output_type": "display_data",
          "data": {
            "text/plain": [
              "<Figure size 432x288 with 1 Axes>"
            ],
            "image/png": "[encoded data removed]"
          },
          "metadata": {
            "needs_background": "light"
          }
        }
      ],
      "source": [
        "sns.barplot(x='Marital_status', y='Price', ci=None, data=austo);"
      ]
    },
    {
      "cell_type": "code",
      "execution_count": 23,
      "id": "41b50e9f",
      "metadata": {
        "id": "41b50e9f",
        "outputId": "ebfa2a02-27d5-4a40-a5c7-515342a20b84",
        "colab": {
          "base_uri": "https://localhost:8080/",
          "height": 282
        }
      },
      "outputs": [
        {
          "output_type": "display_data",
          "data": {
            "text/plain": [
              "<Figure size 432x288 with 1 Axes>"
            ],
            "image/png": "[encoded data removed]"
          },
          "metadata": {
            "needs_background": "light"
          }
        }
      ],
      "source": [
        "sns.barplot(x='Make', y='Price', hue='Marital_status', ci=None, data=austo);"
      ]
    },
    {
      "cell_type": "markdown",
      "id": "723f6965",
      "metadata": {
        "id": "723f6965"
      },
      "source": [
        "- Although Non Married counts are much lower compared to the Married persons but Average Purchase price are just slightly different. Hence, Single's are buying high ticket value Austo Car than Married Person, among which SUV is the most preferred followed by Sedan"
      ]
    },
    {
      "cell_type": "code",
      "execution_count": 24,
      "id": "42081f50",
      "metadata": {
        "id": "42081f50",
        "outputId": "aa40f4c0-d29e-4017-f813-5b957bf4cfab",
        "colab": {
          "base_uri": "https://localhost:8080/",
          "height": 279
        }
      },
      "outputs": [
        {
          "output_type": "display_data",
          "data": {
            "text/plain": [
              "<Figure size 432x288 with 1 Axes>"
            ],
            "image/png": "[encoded data removed]"
          },
          "metadata": {
            "needs_background": "light"
          }
        }
      ],
      "source": [
        "sns.countplot(x='Make', hue='Education', data=austo);"
      ]
    },
    {
      "cell_type": "markdown",
      "id": "87a13038",
      "metadata": {
        "id": "87a13038"
      },
      "source": [
        "- Sedan are purchased by most numbers of the Post Graduates."
      ]
    },
    {
      "cell_type": "code",
      "execution_count": 25,
      "id": "3118d3fc",
      "metadata": {
        "id": "3118d3fc",
        "outputId": "20af5c2f-7bae-4613-974d-38cd8ad62923",
        "colab": {
          "base_uri": "https://localhost:8080/",
          "height": 335
        }
      },
      "outputs": [
        {
          "output_type": "display_data",
          "data": {
            "text/plain": [
              "<Figure size 864x360 with 2 Axes>"
            ],
            "image/png": "[encoded data removed]"
          },
          "metadata": {
            "needs_background": "light"
          }
        }
      ],
      "source": [
        "plt.figure(figsize=(12,5))\n",
        "plt.subplot(1,2,1)\n",
        "sns.barplot(x='House_loan', y='Price', ci=None, data=austo);\n",
        "plt.subplot(1,2,2)\n",
        "sns.barplot(x='Personal_loan', y='Price', ci=None, data=austo);\n",
        "plt.show()"
      ]
    },
    {
      "cell_type": "markdown",
      "id": "b6a1d21f",
      "metadata": {
        "id": "b6a1d21f"
      },
      "source": [
        "- Clearly, customers who does not have House Loans or Personal loans have a higher purchase pattern."
      ]
    },
    {
      "cell_type": "code",
      "execution_count": 26,
      "id": "99a10621",
      "metadata": {
        "id": "99a10621",
        "outputId": "1b5152c1-518a-4140-f66f-ff77d29b1706",
        "colab": {
          "base_uri": "https://localhost:8080/",
          "height": 279
        }
      },
      "outputs": [
        {
          "output_type": "display_data",
          "data": {
            "text/plain": [
              "<Figure size 432x288 with 1 Axes>"
            ],
            "image/png": "[encoded data removed]"
          },
          "metadata": {
            "needs_background": "light"
          }
        }
      ],
      "source": [
        "sns.scatterplot(x='Price', y='Total_salary', hue='Make', data=austo);"
      ]
    },
    {
      "cell_type": "markdown",
      "id": "17dbc5e6",
      "metadata": {
        "id": "17dbc5e6"
      },
      "source": [
        "- There is not much trend between Salary and purchase type of Austo Cars, but SUV are bought by people of High Salary as it it the costlier in three segments of the car"
      ]
    },
    {
      "cell_type": "code",
      "execution_count": 27,
      "id": "47e033ce",
      "metadata": {
        "id": "47e033ce",
        "outputId": "e5c0ada3-7702-4276-e8fb-b22d933c4173",
        "colab": {
          "base_uri": "https://localhost:8080/",
          "height": 353
        }
      },
      "outputs": [
        {
          "output_type": "display_data",
          "data": {
            "text/plain": [
              "<Figure size 432x288 with 2 Axes>"
            ],
            "image/png": "[encoded data removed]"
          },
          "metadata": {
            "needs_background": "light"
          }
        }
      ],
      "source": [
        "#heatmap to corelate the features providing the informations\n",
        "sns.heatmap(austo.corr(), annot=True);"
      ]
    },
    {
      "cell_type": "markdown",
      "id": "6c2445e1",
      "metadata": {
        "id": "6c2445e1"
      },
      "source": [
        "- Total Salary & partner_salary have a high co relation of *0.82* which is very common with the logic as the partner_salary increases the Total_salary increases\n",
        "- Age & Price also has a high corelation of *0.8* which means elder peoples has a pattern of buying high value cars. Hence, the Age of a person has a good impact in the preference of cars.\n",
        "- Age & Salary has a good positive Correlation, which means as the Age increases as the Age increases, salary increases hence they go for costlier brand."
      ]
    },
    {
      "cell_type": "markdown",
      "id": "b7e13d5d",
      "metadata": {
        "id": "b7e13d5d"
      },
      "source": [
        "<font color='blue'>\n",
        "<font size=5>\n",
        "-> Justification on the given previous observation"
      ]
    },
    {
      "cell_type": "markdown",
      "id": "6525e220",
      "metadata": {
        "id": "6525e220"
      },
      "source": [
        "<font size=4>\n",
        "<font color='red'>\n",
        "1. Steve Roger says “Men prefer SUV by a large margin, compared to the women”"
      ]
    },
    {
      "cell_type": "code",
      "execution_count": 28,
      "id": "49315cf6",
      "metadata": {
        "id": "49315cf6",
        "outputId": "af8d27de-8e15-416c-f2cb-894b4b408a93",
        "colab": {
          "base_uri": "https://localhost:8080/",
          "height": 388
        }
      },
      "outputs": [
        {
          "output_type": "display_data",
          "data": {
            "text/plain": [
              "<Figure size 504x432 with 1 Axes>"
            ],
            "image/png": "[encoded data removed]"
          },
          "metadata": {
            "needs_background": "light"
          }
        }
      ],
      "source": [
        "#box plot to check the distribution of different Make of the car w.r.t Gender\n",
        "plt.figure(figsize=(7,6))\n",
        "sns.boxplot(x='Make', y='Price', hue='Gender', data=austo);"
      ]
    },
    {
      "cell_type": "code",
      "execution_count": 29,
      "id": "2aa82878",
      "metadata": {
        "id": "2aa82878",
        "outputId": "a08b807a-8e97-4a49-baf9-8a58be94d9e6",
        "colab": {
          "base_uri": "https://localhost:8080/",
          "height": 206
        }
      },
      "outputs": [
        {
          "output_type": "execute_result",
          "data": {
            "text/plain": [
              "Gender     Female  Male   All\n",
              "Make                         \n",
              "Hatchback      15   567   582\n",
              "SUV           173   124   297\n",
              "Sedan         141   561   702\n",
              "All           329  1252  1581"
            ],
            "text/html": [
              "\n",
              "  <div id=\"df-a5400e36-26e9-4a51-9110-6f76086f2bb8\">\n",
              "    <div class=\"colab-df-container\">\n",
              "      <div>\n",
              "<style scoped>\n",
              "    .dataframe tbody tr th:only-of-type {\n",
              "        vertical-align: middle;\n",
              "    }\n",
              "\n",
              "    .dataframe tbody tr th {\n",
              "        vertical-align: top;\n",
              "    }\n",
              "\n",
              "    .dataframe thead th {\n",
              "        text-align: right;\n",
              "    }\n",
              "</style>\n",
              "<table border=\"1\" class=\"dataframe\">\n",
              "  <thead>\n",
              "    <tr style=\"text-align: right;\">\n",
              "      <th>Gender</th>\n",
              "      <th>Female</th>\n",
              "      <th>Male</th>\n",
              "      <th>All</th>\n",
              "    </tr>\n",
              "    <tr>\n",
              "      <th>Make</th>\n",
              "      <th></th>\n",
              "      <th></th>\n",
              "      <th></th>\n",
              "    </tr>\n",
              "  </thead>\n",
              "  <tbody>\n",
              "    <tr>\n",
              "      <th>Hatchback</th>\n",
              "      <td>15</td>\n",
              "      <td>567</td>\n",
              "      <td>582</td>\n",
              "    </tr>\n",
              "    <tr>\n",
              "      <th>SUV</th>\n",
              "      <td>173</td>\n",
              "      <td>124</td>\n",
              "      <td>297</td>\n",
              "    </tr>\n",
              "    <tr>\n",
              "      <th>Sedan</th>\n",
              "      <td>141</td>\n",
              "      <td>561</td>\n",
              "      <td>702</td>\n",
              "    </tr>\n",
              "    <tr>\n",
              "      <th>All</th>\n",
              "      <td>329</td>\n",
              "      <td>1252</td>\n",
              "      <td>1581</td>\n",
              "    </tr>\n",
              "  </tbody>\n",
              "</table>\n",
              "</div>\n",
              "      <button class=\"colab-df-convert\" onclick=\"convertToInteractive('df-a5400e36-26e9-4a51-9110-6f76086f2bb8')\"\n",
              "              title=\"Convert this dataframe to an interactive table.\"\n",
              "              style=\"display:none;\">\n",
              "        \n",
              "  <svg xmlns=\"http://www.w3.org/2000/svg\" height=\"24px\"viewBox=\"0 0 24 24\"\n",
              "       width=\"24px\">\n",
              "    <path d=\"M0 0h24v24H0V0z\" fill=\"none\"/>\n",
              "    <path d=\"M18.56 5.44l.94 2.06.94-2.06 2.06-.94-2.06-.94-.94-2.06-.94 2.06-2.06.94zm-11 1L8.5 8.5l.94-2.06 2.06-.94-2.06-.94L8.5 2.5l-.94 2.06-2.06.94zm10 10l.94 2.06.94-2.06 2.06-.94-2.06-.94-.94-2.06-.94 2.06-2.06.94z\"/><path d=\"M17.41 7.96l-1.37-1.37c-.4-.4-.92-.59-1.43-.59-.52 0-1.04.2-1.43.59L10.3 9.45l-7.72 7.72c-.78.78-.78 2.05 0 2.83L4 21.41c.39.39.9.59 1.41.59.51 0 1.02-.2 1.41-.59l7.78-7.78 2.81-2.81c.8-.78.8-2.07 0-2.86zM5.41 20L4 18.59l7.72-7.72 1.47 1.35L5.41 20z\"/>\n",
              "  </svg>\n",
              "      </button>\n",
              "      \n",
              "  <style>\n",
              "    .colab-df-container {\n",
              "      display:flex;\n",
              "      flex-wrap:wrap;\n",
              "      gap: 12px;\n",
              "    }\n",
              "\n",
              "    .colab-df-convert {\n",
              "      background-color: #E8F0FE;\n",
              "      border: none;\n",
              "      border-radius: 50%;\n",
              "      cursor: pointer;\n",
              "      display: none;\n",
              "      fill: #1967D2;\n",
              "      height: 32px;\n",
              "      padding: 0 0 0 0;\n",
              "      width: 32px;\n",
              "    }\n",
              "\n",
              "    .colab-df-convert:hover {\n",
              "      background-color: #E2EBFA;\n",
              "      box-shadow: 0px 1px 2px rgba(60, 64, 67, 0.3), 0px 1px 3px 1px rgba(60, 64, 67, 0.15);\n",
              "      fill: #174EA6;\n",
              "    }\n",
              "\n",
              "    [theme=dark] .colab-df-convert {\n",
              "      background-color: #3B4455;\n",
              "      fill: #D2E3FC;\n",
              "    }\n",
              "\n",
              "    [theme=dark] .colab-df-convert:hover {\n",
              "      background-color: #434B5C;\n",
              "      box-shadow: 0px 1px 3px 1px rgba(0, 0, 0, 0.15);\n",
              "      filter: drop-shadow(0px 1px 2px rgba(0, 0, 0, 0.3));\n",
              "      fill: #FFFFFF;\n",
              "    }\n",
              "  </style>\n",
              "\n",
              "      <script>\n",
              "        const buttonEl =\n",
              "          document.querySelector('#df-a5400e36-26e9-4a51-9110-6f76086f2bb8 button.colab-df-convert');\n",
              "        buttonEl.style.display =\n",
              "          google.colab.kernel.accessAllowed ? 'block' : 'none';\n",
              "\n",
              "        async function convertToInteractive(key) {\n",
              "          const element = document.querySelector('#df-a5400e36-26e9-4a51-9110-6f76086f2bb8');\n",
              "          const dataTable =\n",
              "            await google.colab.kernel.invokeFunction('convertToInteractive',\n",
              "                                                     [key], {});\n",
              "          if (!dataTable) return;\n",
              "\n",
              "          const docLinkHtml = 'Like what you see? Visit the ' +\n",
              "            '<a target=\"_blank\" href=https://colab.research.google.com/notebooks/data_table.ipynb>data table notebook</a>'\n",
              "            + ' to learn more about interactive tables.';\n",
              "          element.innerHTML = '';\n",
              "          dataTable['output_type'] = 'display_data';\n",
              "          await google.colab.output.renderOutput(dataTable, element);\n",
              "          const docLink = document.createElement('div');\n",
              "          docLink.innerHTML = docLinkHtml;\n",
              "          element.appendChild(docLink);\n",
              "        }\n",
              "      </script>\n",
              "    </div>\n",
              "  </div>\n",
              "  "
            ]
          },
          "metadata": {},
          "execution_count": 29
        }
      ],
      "source": [
        "pd.pivot_table(austo,'Price', index=['Make'], columns=[ 'Gender'], aggfunc=len, margins=True)"
      ]
    },
    {
      "cell_type": "markdown",
      "id": "09097898",
      "metadata": {
        "id": "09097898"
      },
      "source": [
        "- Clearly, analyzing the purchase pattern of both Gender, trend of purchasing SUV for females are more than Males with flexible budget which means they also buys lower models of SUV, whereas compared to Males they prefers to purchase medium of high models\n",
        "- Most of the Men has a pattern to purchase either Sedan or Hatchback also Age being the factor since SUV is high budget and targeted by only peoples with higher salary & older, whereas Females doesn't prefers to purchase Hatchback\n",
        "<font color='black'>\n",
        "<font size=5>\n",
        "<br>\n",
        "Hence statement made by Steven Roger is incorrect"
      ]
    },
    {
      "cell_type": "markdown",
      "id": "ecfeadc8",
      "metadata": {
        "id": "ecfeadc8"
      },
      "source": [
        "<font color='red'>\n",
        "<font size=4>\n",
        "<br>\n",
        "2. Ned Stark believes that a salaried person is more likely to buy a Sedan."
      ]
    },
    {
      "cell_type": "code",
      "execution_count": 30,
      "id": "38be5bff",
      "metadata": {
        "id": "38be5bff",
        "outputId": "62813163-bf97-424d-d7d1-7eab1574a0f7",
        "colab": {
          "base_uri": "https://localhost:8080/",
          "height": 279
        }
      },
      "outputs": [
        {
          "output_type": "display_data",
          "data": {
            "text/plain": [
              "<Figure size 432x288 with 1 Axes>"
            ],
            "image/png": "[encoded data removed]"
          },
          "metadata": {
            "needs_background": "light"
          }
        }
      ],
      "source": [
        "sns.countplot(x='Make', hue='Profession', data=austo);"
      ]
    },
    {
      "cell_type": "code",
      "execution_count": 31,
      "id": "0886f594",
      "metadata": {
        "id": "0886f594",
        "outputId": "e16fbe1e-5ac7-4f6b-eb6a-53cae77a5887",
        "colab": {
          "base_uri": "https://localhost:8080/",
          "height": 175
        }
      },
      "outputs": [
        {
          "output_type": "execute_result",
          "data": {
            "text/plain": [
              "Profession  Business  Salaried\n",
              "Make                          \n",
              "Hatchback   0.135554  0.138220\n",
              "SUV         0.089161  0.205437\n",
              "Sedan       0.181237  0.250391"
            ],
            "text/html": [
              "\n",
              "  <div id=\"df-135351c3-5e10-4b5f-87cd-aa3a9b375e7a\">\n",
              "    <div class=\"colab-df-container\">\n",
              "      <div>\n",
              "<style scoped>\n",
              "    .dataframe tbody tr th:only-of-type {\n",
              "        vertical-align: middle;\n",
              "    }\n",
              "\n",
              "    .dataframe tbody tr th {\n",
              "        vertical-align: top;\n",
              "    }\n",
              "\n",
              "    .dataframe thead th {\n",
              "        text-align: right;\n",
              "    }\n",
              "</style>\n",
              "<table border=\"1\" class=\"dataframe\">\n",
              "  <thead>\n",
              "    <tr style=\"text-align: right;\">\n",
              "      <th>Profession</th>\n",
              "      <th>Business</th>\n",
              "      <th>Salaried</th>\n",
              "    </tr>\n",
              "    <tr>\n",
              "      <th>Make</th>\n",
              "      <th></th>\n",
              "      <th></th>\n",
              "    </tr>\n",
              "  </thead>\n",
              "  <tbody>\n",
              "    <tr>\n",
              "      <th>Hatchback</th>\n",
              "      <td>0.135554</td>\n",
              "      <td>0.138220</td>\n",
              "    </tr>\n",
              "    <tr>\n",
              "      <th>SUV</th>\n",
              "      <td>0.089161</td>\n",
              "      <td>0.205437</td>\n",
              "    </tr>\n",
              "    <tr>\n",
              "      <th>Sedan</th>\n",
              "      <td>0.181237</td>\n",
              "      <td>0.250391</td>\n",
              "    </tr>\n",
              "  </tbody>\n",
              "</table>\n",
              "</div>\n",
              "      <button class=\"colab-df-convert\" onclick=\"convertToInteractive('df-135351c3-5e10-4b5f-87cd-aa3a9b375e7a')\"\n",
              "              title=\"Convert this dataframe to an interactive table.\"\n",
              "              style=\"display:none;\">\n",
              "        \n",
              "  <svg xmlns=\"http://www.w3.org/2000/svg\" height=\"24px\"viewBox=\"0 0 24 24\"\n",
              "       width=\"24px\">\n",
              "    <path d=\"M0 0h24v24H0V0z\" fill=\"none\"/>\n",
              "    <path d=\"M18.56 5.44l.94 2.06.94-2.06 2.06-.94-2.06-.94-.94-2.06-.94 2.06-2.06.94zm-11 1L8.5 8.5l.94-2.06 2.06-.94-2.06-.94L8.5 2.5l-.94 2.06-2.06.94zm10 10l.94 2.06.94-2.06 2.06-.94-2.06-.94-.94-2.06-.94 2.06-2.06.94z\"/><path d=\"M17.41 7.96l-1.37-1.37c-.4-.4-.92-.59-1.43-.59-.52 0-1.04.2-1.43.59L10.3 9.45l-7.72 7.72c-.78.78-.78 2.05 0 2.83L4 21.41c.39.39.9.59 1.41.59.51 0 1.02-.2 1.41-.59l7.78-7.78 2.81-2.81c.8-.78.8-2.07 0-2.86zM5.41 20L4 18.59l7.72-7.72 1.47 1.35L5.41 20z\"/>\n",
              "  </svg>\n",
              "      </button>\n",
              "      \n",
              "  <style>\n",
              "    .colab-df-container {\n",
              "      display:flex;\n",
              "      flex-wrap:wrap;\n",
              "      gap: 12px;\n",
              "    }\n",
              "\n",
              "    .colab-df-convert {\n",
              "      background-color: #E8F0FE;\n",
              "      border: none;\n",
              "      border-radius: 50%;\n",
              "      cursor: pointer;\n",
              "      display: none;\n",
              "      fill: #1967D2;\n",
              "      height: 32px;\n",
              "      padding: 0 0 0 0;\n",
              "      width: 32px;\n",
              "    }\n",
              "\n",
              "    .colab-df-convert:hover {\n",
              "      background-color: #E2EBFA;\n",
              "      box-shadow: 0px 1px 2px rgba(60, 64, 67, 0.3), 0px 1px 3px 1px rgba(60, 64, 67, 0.15);\n",
              "      fill: #174EA6;\n",
              "    }\n",
              "\n",
              "    [theme=dark] .colab-df-convert {\n",
              "      background-color: #3B4455;\n",
              "      fill: #D2E3FC;\n",
              "    }\n",
              "\n",
              "    [theme=dark] .colab-df-convert:hover {\n",
              "      background-color: #434B5C;\n",
              "      box-shadow: 0px 1px 3px 1px rgba(0, 0, 0, 0.15);\n",
              "      filter: drop-shadow(0px 1px 2px rgba(0, 0, 0, 0.3));\n",
              "      fill: #FFFFFF;\n",
              "    }\n",
              "  </style>\n",
              "\n",
              "      <script>\n",
              "        const buttonEl =\n",
              "          document.querySelector('#df-135351c3-5e10-4b5f-87cd-aa3a9b375e7a button.colab-df-convert');\n",
              "        buttonEl.style.display =\n",
              "          google.colab.kernel.accessAllowed ? 'block' : 'none';\n",
              "\n",
              "        async function convertToInteractive(key) {\n",
              "          const element = document.querySelector('#df-135351c3-5e10-4b5f-87cd-aa3a9b375e7a');\n",
              "          const dataTable =\n",
              "            await google.colab.kernel.invokeFunction('convertToInteractive',\n",
              "                                                     [key], {});\n",
              "          if (!dataTable) return;\n",
              "\n",
              "          const docLinkHtml = 'Like what you see? Visit the ' +\n",
              "            '<a target=\"_blank\" href=https://colab.research.google.com/notebooks/data_table.ipynb>data table notebook</a>'\n",
              "            + ' to learn more about interactive tables.';\n",
              "          element.innerHTML = '';\n",
              "          dataTable['output_type'] = 'display_data';\n",
              "          await google.colab.output.renderOutput(dataTable, element);\n",
              "          const docLink = document.createElement('div');\n",
              "          docLink.innerHTML = docLinkHtml;\n",
              "          element.appendChild(docLink);\n",
              "        }\n",
              "      </script>\n",
              "    </div>\n",
              "  </div>\n",
              "  "
            ]
          },
          "metadata": {},
          "execution_count": 31
        }
      ],
      "source": [
        "pd.crosstab(austo.Make, austo.Profession, values=austo.Price, aggfunc=np.sum, normalize='all')"
      ]
    },
    {
      "cell_type": "markdown",
      "id": "6dd4bd2f",
      "metadata": {
        "id": "6dd4bd2f"
      },
      "source": [
        "- Salaried Professionals are most when comes to buying a Sedan.\n",
        "- 25% of total sales is from Sedan by Salaried professional\n",
        "<font color='black'>\n",
        "<font size=5>\n",
        "<br>Hence Statement made by Ned Stark is correct"
      ]
    },
    {
      "cell_type": "markdown",
      "id": "65a4ee8b",
      "metadata": {
        "id": "65a4ee8b"
      },
      "source": [
        "<font color='red'>\n",
        "<font size=4>\n",
        "3. Sheldon Cooper does not believe any of them; he claims that a salaried male is an easier target for a SUV sale over a Sedan Sale"
      ]
    },
    {
      "cell_type": "code",
      "execution_count": 32,
      "id": "627c5d50",
      "metadata": {
        "id": "627c5d50",
        "outputId": "ece85534-3d77-4cc9-9fc8-1d83e8f29b68",
        "colab": {
          "base_uri": "https://localhost:8080/",
          "height": 279
        }
      },
      "outputs": [
        {
          "output_type": "display_data",
          "data": {
            "text/plain": [
              "<Figure size 432x288 with 1 Axes>"
            ],
            "image/png": "[encoded data removed]"
          },
          "metadata": {
            "needs_background": "light"
          }
        }
      ],
      "source": [
        "sns.countplot(x='Profession', hue='Make', data=austo);"
      ]
    },
    {
      "cell_type": "code",
      "execution_count": 33,
      "id": "0e2fd1a0",
      "metadata": {
        "id": "0e2fd1a0",
        "outputId": "66ade6db-7a00-4d04-9f00-12cc42a4c3be",
        "colab": {
          "base_uri": "https://localhost:8080/"
        }
      },
      "outputs": [
        {
          "output_type": "execute_result",
          "data": {
            "text/plain": [
              "Gender  Profession\n",
              "Female  Salaried      224\n",
              "        Business      105\n",
              "Male    Salaried      672\n",
              "        Business      580\n",
              "Name: Profession, dtype: int64"
            ]
          },
          "metadata": {},
          "execution_count": 33
        }
      ],
      "source": [
        "austo.groupby('Gender')['Profession'].value_counts()"
      ]
    },
    {
      "cell_type": "code",
      "execution_count": 34,
      "id": "528be544",
      "metadata": {
        "id": "528be544",
        "outputId": "c06a01fe-eac2-4676-a327-d92230e840e3",
        "colab": {
          "base_uri": "https://localhost:8080/",
          "height": 300
        }
      },
      "outputs": [
        {
          "output_type": "execute_result",
          "data": {
            "text/plain": [
              "Profession        Business  Salaried   All\n",
              "Make      Gender                          \n",
              "Hatchback Female       NaN      15.0    15\n",
              "          Male       290.0     277.0   567\n",
              "SUV       Female      55.0     118.0   173\n",
              "          Male        34.0      90.0   124\n",
              "Sedan     Female      50.0      91.0   141\n",
              "          Male       256.0     305.0   561\n",
              "All                  685.0     896.0  1581"
            ],
            "text/html": [
              "\n",
              "  <div id=\"df-a5413174-1960-41db-a3c5-48353ec5056e\">\n",
              "    <div class=\"colab-df-container\">\n",
              "      <div>\n",
              "<style scoped>\n",
              "    .dataframe tbody tr th:only-of-type {\n",
              "        vertical-align: middle;\n",
              "    }\n",
              "\n",
              "    .dataframe tbody tr th {\n",
              "        vertical-align: top;\n",
              "    }\n",
              "\n",
              "    .dataframe thead th {\n",
              "        text-align: right;\n",
              "    }\n",
              "</style>\n",
              "<table border=\"1\" class=\"dataframe\">\n",
              "  <thead>\n",
              "    <tr style=\"text-align: right;\">\n",
              "      <th></th>\n",
              "      <th>Profession</th>\n",
              "      <th>Business</th>\n",
              "      <th>Salaried</th>\n",
              "      <th>All</th>\n",
              "    </tr>\n",
              "    <tr>\n",
              "      <th>Make</th>\n",
              "      <th>Gender</th>\n",
              "      <th></th>\n",
              "      <th></th>\n",
              "      <th></th>\n",
              "    </tr>\n",
              "  </thead>\n",
              "  <tbody>\n",
              "    <tr>\n",
              "      <th rowspan=\"2\" valign=\"top\">Hatchback</th>\n",
              "      <th>Female</th>\n",
              "      <td>NaN</td>\n",
              "      <td>15.0</td>\n",
              "      <td>15</td>\n",
              "    </tr>\n",
              "    <tr>\n",
              "      <th>Male</th>\n",
              "      <td>290.0</td>\n",
              "      <td>277.0</td>\n",
              "      <td>567</td>\n",
              "    </tr>\n",
              "    <tr>\n",
              "      <th rowspan=\"2\" valign=\"top\">SUV</th>\n",
              "      <th>Female</th>\n",
              "      <td>55.0</td>\n",
              "      <td>118.0</td>\n",
              "      <td>173</td>\n",
              "    </tr>\n",
              "    <tr>\n",
              "      <th>Male</th>\n",
              "      <td>34.0</td>\n",
              "      <td>90.0</td>\n",
              "      <td>124</td>\n",
              "    </tr>\n",
              "    <tr>\n",
              "      <th rowspan=\"2\" valign=\"top\">Sedan</th>\n",
              "      <th>Female</th>\n",
              "      <td>50.0</td>\n",
              "      <td>91.0</td>\n",
              "      <td>141</td>\n",
              "    </tr>\n",
              "    <tr>\n",
              "      <th>Male</th>\n",
              "      <td>256.0</td>\n",
              "      <td>305.0</td>\n",
              "      <td>561</td>\n",
              "    </tr>\n",
              "    <tr>\n",
              "      <th>All</th>\n",
              "      <th></th>\n",
              "      <td>685.0</td>\n",
              "      <td>896.0</td>\n",
              "      <td>1581</td>\n",
              "    </tr>\n",
              "  </tbody>\n",
              "</table>\n",
              "</div>\n",
              "      <button class=\"colab-df-convert\" onclick=\"convertToInteractive('df-a5413174-1960-41db-a3c5-48353ec5056e')\"\n",
              "              title=\"Convert this dataframe to an interactive table.\"\n",
              "              style=\"display:none;\">\n",
              "        \n",
              "  <svg xmlns=\"http://www.w3.org/2000/svg\" height=\"24px\"viewBox=\"0 0 24 24\"\n",
              "       width=\"24px\">\n",
              "    <path d=\"M0 0h24v24H0V0z\" fill=\"none\"/>\n",
              "    <path d=\"M18.56 5.44l.94 2.06.94-2.06 2.06-.94-2.06-.94-.94-2.06-.94 2.06-2.06.94zm-11 1L8.5 8.5l.94-2.06 2.06-.94-2.06-.94L8.5 2.5l-.94 2.06-2.06.94zm10 10l.94 2.06.94-2.06 2.06-.94-2.06-.94-.94-2.06-.94 2.06-2.06.94z\"/><path d=\"M17.41 7.96l-1.37-1.37c-.4-.4-.92-.59-1.43-.59-.52 0-1.04.2-1.43.59L10.3 9.45l-7.72 7.72c-.78.78-.78 2.05 0 2.83L4 21.41c.39.39.9.59 1.41.59.51 0 1.02-.2 1.41-.59l7.78-7.78 2.81-2.81c.8-.78.8-2.07 0-2.86zM5.41 20L4 18.59l7.72-7.72 1.47 1.35L5.41 20z\"/>\n",
              "  </svg>\n",
              "      </button>\n",
              "      \n",
              "  <style>\n",
              "    .colab-df-container {\n",
              "      display:flex;\n",
              "      flex-wrap:wrap;\n",
              "      gap: 12px;\n",
              "    }\n",
              "\n",
              "    .colab-df-convert {\n",
              "      background-color: #E8F0FE;\n",
              "      border: none;\n",
              "      border-radius: 50%;\n",
              "      cursor: pointer;\n",
              "      display: none;\n",
              "      fill: #1967D2;\n",
              "      height: 32px;\n",
              "      padding: 0 0 0 0;\n",
              "      width: 32px;\n",
              "    }\n",
              "\n",
              "    .colab-df-convert:hover {\n",
              "      background-color: #E2EBFA;\n",
              "      box-shadow: 0px 1px 2px rgba(60, 64, 67, 0.3), 0px 1px 3px 1px rgba(60, 64, 67, 0.15);\n",
              "      fill: #174EA6;\n",
              "    }\n",
              "\n",
              "    [theme=dark] .colab-df-convert {\n",
              "      background-color: #3B4455;\n",
              "      fill: #D2E3FC;\n",
              "    }\n",
              "\n",
              "    [theme=dark] .colab-df-convert:hover {\n",
              "      background-color: #434B5C;\n",
              "      box-shadow: 0px 1px 3px 1px rgba(0, 0, 0, 0.15);\n",
              "      filter: drop-shadow(0px 1px 2px rgba(0, 0, 0, 0.3));\n",
              "      fill: #FFFFFF;\n",
              "    }\n",
              "  </style>\n",
              "\n",
              "      <script>\n",
              "        const buttonEl =\n",
              "          document.querySelector('#df-a5413174-1960-41db-a3c5-48353ec5056e button.colab-df-convert');\n",
              "        buttonEl.style.display =\n",
              "          google.colab.kernel.accessAllowed ? 'block' : 'none';\n",
              "\n",
              "        async function convertToInteractive(key) {\n",
              "          const element = document.querySelector('#df-a5413174-1960-41db-a3c5-48353ec5056e');\n",
              "          const dataTable =\n",
              "            await google.colab.kernel.invokeFunction('convertToInteractive',\n",
              "                                                     [key], {});\n",
              "          if (!dataTable) return;\n",
              "\n",
              "          const docLinkHtml = 'Like what you see? Visit the ' +\n",
              "            '<a target=\"_blank\" href=https://colab.research.google.com/notebooks/data_table.ipynb>data table notebook</a>'\n",
              "            + ' to learn more about interactive tables.';\n",
              "          element.innerHTML = '';\n",
              "          dataTable['output_type'] = 'display_data';\n",
              "          await google.colab.output.renderOutput(dataTable, element);\n",
              "          const docLink = document.createElement('div');\n",
              "          docLink.innerHTML = docLinkHtml;\n",
              "          element.appendChild(docLink);\n",
              "        }\n",
              "      </script>\n",
              "    </div>\n",
              "  </div>\n",
              "  "
            ]
          },
          "metadata": {},
          "execution_count": 34
        }
      ],
      "source": [
        "pd.pivot_table(austo,'Price', index=['Make', 'Gender'], columns=[ 'Profession'], aggfunc=len, margins=True)"
      ]
    },
    {
      "cell_type": "markdown",
      "id": "4409edad",
      "metadata": {
        "id": "4409edad"
      },
      "source": [
        "-  Total Count of Salaried Male are - 672\n",
        "-  Ratio of Hatchback purchased by Salaried men - 277/672 = 0.41\n",
        "-  Ratio of SUV purchased by Salaried men - 90/672 = 0.13\n",
        "-  Ratio of Sedan purchased by Salaried men - 305/672 = 0.45\n",
        "\n",
        "Salaried person are the most in number who purchases Austo Car from the Barplot but when we tried to derive some more insights from the charts, we found that Ratio of Sedan purchased by Salaried men are most. \n",
        "<font color='black'>\n",
        "<font size=5>\n",
        "<br>\n",
        "Hence above statement is correct"
      ]
    },
    {
      "cell_type": "markdown",
      "id": "426b8f77",
      "metadata": {
        "id": "426b8f77"
      },
      "source": [
        "<font color='blue'>\n",
        "<font size=5>\n",
        "-> Amount spent on purchasing automobiles across the following categories. "
      ]
    },
    {
      "cell_type": "markdown",
      "id": "c7c543e7",
      "metadata": {
        "id": "c7c543e7"
      },
      "source": [
        "<font color='black'>\n",
        "<font size=4>\n",
        "-->  Amount  Spent on purchasing automobiles by GENDER"
      ]
    },
    {
      "cell_type": "code",
      "execution_count": 35,
      "id": "60b6c1a0",
      "metadata": {
        "id": "60b6c1a0",
        "outputId": "81ec5fcc-0768-491f-a2b3-7f8509f1212d",
        "colab": {
          "base_uri": "https://localhost:8080/",
          "height": 399
        }
      },
      "outputs": [
        {
          "output_type": "display_data",
          "data": {
            "text/plain": [
              "<Figure size 504x432 with 1 Axes>"
            ],
            "image/png": "[encoded data removed]"
          },
          "metadata": {
            "needs_background": "light"
          }
        }
      ],
      "source": [
        "plt.figure(figsize=(7,6))\n",
        "sns.barplot(x='Make', y='Price', hue='Gender', estimator=np.sum, ci=None, data=austo);"
      ]
    },
    {
      "cell_type": "code",
      "execution_count": 36,
      "id": "c2a31153",
      "metadata": {
        "id": "c2a31153",
        "outputId": "03e87c45-a7f0-403e-a557-a050c59e7dbd",
        "colab": {
          "base_uri": "https://localhost:8080/",
          "height": 206
        }
      },
      "outputs": [
        {
          "output_type": "execute_result",
          "data": {
            "text/plain": [
              "Gender       Female      Male       All\n",
              "Make                                   \n",
              "Hatchback  0.113585  0.109373  0.226463\n",
              "SUV        0.221160  0.244388  0.477531\n",
              "Sedan      0.176883  0.134610  0.296006\n",
              "All        0.595412  0.404588  1.000000"
            ],
            "text/html": [
              "\n",
              "  <div id=\"df-9e7f2ba1-f348-49e3-9712-99b146142691\">\n",
              "    <div class=\"colab-df-container\">\n",
              "      <div>\n",
              "<style scoped>\n",
              "    .dataframe tbody tr th:only-of-type {\n",
              "        vertical-align: middle;\n",
              "    }\n",
              "\n",
              "    .dataframe tbody tr th {\n",
              "        vertical-align: top;\n",
              "    }\n",
              "\n",
              "    .dataframe thead th {\n",
              "        text-align: right;\n",
              "    }\n",
              "</style>\n",
              "<table border=\"1\" class=\"dataframe\">\n",
              "  <thead>\n",
              "    <tr style=\"text-align: right;\">\n",
              "      <th>Gender</th>\n",
              "      <th>Female</th>\n",
              "      <th>Male</th>\n",
              "      <th>All</th>\n",
              "    </tr>\n",
              "    <tr>\n",
              "      <th>Make</th>\n",
              "      <th></th>\n",
              "      <th></th>\n",
              "      <th></th>\n",
              "    </tr>\n",
              "  </thead>\n",
              "  <tbody>\n",
              "    <tr>\n",
              "      <th>Hatchback</th>\n",
              "      <td>0.113585</td>\n",
              "      <td>0.109373</td>\n",
              "      <td>0.226463</td>\n",
              "    </tr>\n",
              "    <tr>\n",
              "      <th>SUV</th>\n",
              "      <td>0.221160</td>\n",
              "      <td>0.244388</td>\n",
              "      <td>0.477531</td>\n",
              "    </tr>\n",
              "    <tr>\n",
              "      <th>Sedan</th>\n",
              "      <td>0.176883</td>\n",
              "      <td>0.134610</td>\n",
              "      <td>0.296006</td>\n",
              "    </tr>\n",
              "    <tr>\n",
              "      <th>All</th>\n",
              "      <td>0.595412</td>\n",
              "      <td>0.404588</td>\n",
              "      <td>1.000000</td>\n",
              "    </tr>\n",
              "  </tbody>\n",
              "</table>\n",
              "</div>\n",
              "      <button class=\"colab-df-convert\" onclick=\"convertToInteractive('df-9e7f2ba1-f348-49e3-9712-99b146142691')\"\n",
              "              title=\"Convert this dataframe to an interactive table.\"\n",
              "              style=\"display:none;\">\n",
              "        \n",
              "  <svg xmlns=\"http://www.w3.org/2000/svg\" height=\"24px\"viewBox=\"0 0 24 24\"\n",
              "       width=\"24px\">\n",
              "    <path d=\"M0 0h24v24H0V0z\" fill=\"none\"/>\n",
              "    <path d=\"M18.56 5.44l.94 2.06.94-2.06 2.06-.94-2.06-.94-.94-2.06-.94 2.06-2.06.94zm-11 1L8.5 8.5l.94-2.06 2.06-.94-2.06-.94L8.5 2.5l-.94 2.06-2.06.94zm10 10l.94 2.06.94-2.06 2.06-.94-2.06-.94-.94-2.06-.94 2.06-2.06.94z\"/><path d=\"M17.41 7.96l-1.37-1.37c-.4-.4-.92-.59-1.43-.59-.52 0-1.04.2-1.43.59L10.3 9.45l-7.72 7.72c-.78.78-.78 2.05 0 2.83L4 21.41c.39.39.9.59 1.41.59.51 0 1.02-.2 1.41-.59l7.78-7.78 2.81-2.81c.8-.78.8-2.07 0-2.86zM5.41 20L4 18.59l7.72-7.72 1.47 1.35L5.41 20z\"/>\n",
              "  </svg>\n",
              "      </button>\n",
              "      \n",
              "  <style>\n",
              "    .colab-df-container {\n",
              "      display:flex;\n",
              "      flex-wrap:wrap;\n",
              "      gap: 12px;\n",
              "    }\n",
              "\n",
              "    .colab-df-convert {\n",
              "      background-color: #E8F0FE;\n",
              "      border: none;\n",
              "      border-radius: 50%;\n",
              "      cursor: pointer;\n",
              "      display: none;\n",
              "      fill: #1967D2;\n",
              "      height: 32px;\n",
              "      padding: 0 0 0 0;\n",
              "      width: 32px;\n",
              "    }\n",
              "\n",
              "    .colab-df-convert:hover {\n",
              "      background-color: #E2EBFA;\n",
              "      box-shadow: 0px 1px 2px rgba(60, 64, 67, 0.3), 0px 1px 3px 1px rgba(60, 64, 67, 0.15);\n",
              "      fill: #174EA6;\n",
              "    }\n",
              "\n",
              "    [theme=dark] .colab-df-convert {\n",
              "      background-color: #3B4455;\n",
              "      fill: #D2E3FC;\n",
              "    }\n",
              "\n",
              "    [theme=dark] .colab-df-convert:hover {\n",
              "      background-color: #434B5C;\n",
              "      box-shadow: 0px 1px 3px 1px rgba(0, 0, 0, 0.15);\n",
              "      filter: drop-shadow(0px 1px 2px rgba(0, 0, 0, 0.3));\n",
              "      fill: #FFFFFF;\n",
              "    }\n",
              "  </style>\n",
              "\n",
              "      <script>\n",
              "        const buttonEl =\n",
              "          document.querySelector('#df-9e7f2ba1-f348-49e3-9712-99b146142691 button.colab-df-convert');\n",
              "        buttonEl.style.display =\n",
              "          google.colab.kernel.accessAllowed ? 'block' : 'none';\n",
              "\n",
              "        async function convertToInteractive(key) {\n",
              "          const element = document.querySelector('#df-9e7f2ba1-f348-49e3-9712-99b146142691');\n",
              "          const dataTable =\n",
              "            await google.colab.kernel.invokeFunction('convertToInteractive',\n",
              "                                                     [key], {});\n",
              "          if (!dataTable) return;\n",
              "\n",
              "          const docLinkHtml = 'Like what you see? Visit the ' +\n",
              "            '<a target=\"_blank\" href=https://colab.research.google.com/notebooks/data_table.ipynb>data table notebook</a>'\n",
              "            + ' to learn more about interactive tables.';\n",
              "          element.innerHTML = '';\n",
              "          dataTable['output_type'] = 'display_data';\n",
              "          await google.colab.output.renderOutput(dataTable, element);\n",
              "          const docLink = document.createElement('div');\n",
              "          docLink.innerHTML = docLinkHtml;\n",
              "          element.appendChild(docLink);\n",
              "        }\n",
              "      </script>\n",
              "    </div>\n",
              "  </div>\n",
              "  "
            ]
          },
          "metadata": {},
          "execution_count": 36
        }
      ],
      "source": [
        "pd.crosstab (austo.Make, austo.Gender, values=austo.Price, aggfunc=np.mean, normalize='all', margins=True)"
      ]
    },
    {
      "cell_type": "markdown",
      "id": "ab764f87",
      "metadata": {
        "id": "ab764f87"
      },
      "source": [
        "- 59.5% Revenue of the Austo Car Company came from Females\n",
        "- Women prefers purchasing High End models of car\n",
        "- Although Mens contributed 24.4% of Revenue by purchasing SUV but they are the primary customer of low end cars"
      ]
    },
    {
      "cell_type": "markdown",
      "id": "28a0fbc5",
      "metadata": {
        "id": "28a0fbc5"
      },
      "source": [
        "<font color='black'>\n",
        "<font size=4>\n",
        "--> How does peoples with Personal Loan impact the Sale of Automobile?"
      ]
    },
    {
      "cell_type": "code",
      "source": [
        "sns.countplot(x='Personal_loan', hue='Make', data=austo)"
      ],
      "metadata": {
        "colab": {
          "base_uri": "https://localhost:8080/",
          "height": 299
        },
        "id": "FcS_1EhoTKtz",
        "outputId": "0525b3be-2c18-4300-985c-929fb3155457"
      },
      "id": "FcS_1EhoTKtz",
      "execution_count": 43,
      "outputs": [
        {
          "output_type": "execute_result",
          "data": {
            "text/plain": [
              "<matplotlib.axes._subplots.AxesSubplot at 0x7f91d3ce52b0>"
            ]
          },
          "metadata": {},
          "execution_count": 43
        },
        {
          "output_type": "display_data",
          "data": {
            "text/plain": [
              "<Figure size 432x288 with 1 Axes>"
            ],
            "image/png": "[encoded data removed]"
          },
          "metadata": {
            "needs_background": "light"
          }
        }
      ]
    },
    {
      "cell_type": "code",
      "execution_count": 37,
      "id": "037465db",
      "metadata": {
        "id": "037465db",
        "outputId": "08a02f85-632f-44bb-f280-761add549db0",
        "colab": {
          "base_uri": "https://localhost:8080/",
          "height": 389
        }
      },
      "outputs": [
        {
          "output_type": "display_data",
          "data": {
            "text/plain": [
              "<Figure size 504x432 with 1 Axes>"
            ],
            "image/png": "[encoded data removed]"
          },
          "metadata": {
            "needs_background": "light"
          }
        }
      ],
      "source": [
        "plt.figure(figsize=(7,6))\n",
        "sns.boxplot(x='Personal_loan', y='Price', hue='Make', data=austo);"
      ]
    },
    {
      "cell_type": "code",
      "execution_count": 41,
      "id": "9166133c",
      "metadata": {
        "id": "9166133c",
        "outputId": "a20dab57-1c2c-4dda-99d6-8f54d8efb424",
        "colab": {
          "base_uri": "https://localhost:8080/",
          "height": 206
        }
      },
      "outputs": [
        {
          "output_type": "execute_result",
          "data": {
            "text/plain": [
              "Personal_loan        No       Yes       All\n",
              "Make                                       \n",
              "Hatchback      0.137971  0.135803  0.273774\n",
              "SUV            0.184311  0.110288  0.294598\n",
              "Sedan          0.192822  0.238806  0.431628\n",
              "All            0.515103  0.484897  1.000000"
            ],
            "text/html": [
              "\n",
              "  <div id=\"df-92161565-a55e-4cbd-b992-187df4c598c1\">\n",
              "    <div class=\"colab-df-container\">\n",
              "      <div>\n",
              "<style scoped>\n",
              "    .dataframe tbody tr th:only-of-type {\n",
              "        vertical-align: middle;\n",
              "    }\n",
              "\n",
              "    .dataframe tbody tr th {\n",
              "        vertical-align: top;\n",
              "    }\n",
              "\n",
              "    .dataframe thead th {\n",
              "        text-align: right;\n",
              "    }\n",
              "</style>\n",
              "<table border=\"1\" class=\"dataframe\">\n",
              "  <thead>\n",
              "    <tr style=\"text-align: right;\">\n",
              "      <th>Personal_loan</th>\n",
              "      <th>No</th>\n",
              "      <th>Yes</th>\n",
              "      <th>All</th>\n",
              "    </tr>\n",
              "    <tr>\n",
              "      <th>Make</th>\n",
              "      <th></th>\n",
              "      <th></th>\n",
              "      <th></th>\n",
              "    </tr>\n",
              "  </thead>\n",
              "  <tbody>\n",
              "    <tr>\n",
              "      <th>Hatchback</th>\n",
              "      <td>0.137971</td>\n",
              "      <td>0.135803</td>\n",
              "      <td>0.273774</td>\n",
              "    </tr>\n",
              "    <tr>\n",
              "      <th>SUV</th>\n",
              "      <td>0.184311</td>\n",
              "      <td>0.110288</td>\n",
              "      <td>0.294598</td>\n",
              "    </tr>\n",
              "    <tr>\n",
              "      <th>Sedan</th>\n",
              "      <td>0.192822</td>\n",
              "      <td>0.238806</td>\n",
              "      <td>0.431628</td>\n",
              "    </tr>\n",
              "    <tr>\n",
              "      <th>All</th>\n",
              "      <td>0.515103</td>\n",
              "      <td>0.484897</td>\n",
              "      <td>1.000000</td>\n",
              "    </tr>\n",
              "  </tbody>\n",
              "</table>\n",
              "</div>\n",
              "      <button class=\"colab-df-convert\" onclick=\"convertToInteractive('df-92161565-a55e-4cbd-b992-187df4c598c1')\"\n",
              "              title=\"Convert this dataframe to an interactive table.\"\n",
              "              style=\"display:none;\">\n",
              "        \n",
              "  <svg xmlns=\"http://www.w3.org/2000/svg\" height=\"24px\"viewBox=\"0 0 24 24\"\n",
              "       width=\"24px\">\n",
              "    <path d=\"M0 0h24v24H0V0z\" fill=\"none\"/>\n",
              "    <path d=\"M18.56 5.44l.94 2.06.94-2.06 2.06-.94-2.06-.94-.94-2.06-.94 2.06-2.06.94zm-11 1L8.5 8.5l.94-2.06 2.06-.94-2.06-.94L8.5 2.5l-.94 2.06-2.06.94zm10 10l.94 2.06.94-2.06 2.06-.94-2.06-.94-.94-2.06-.94 2.06-2.06.94z\"/><path d=\"M17.41 7.96l-1.37-1.37c-.4-.4-.92-.59-1.43-.59-.52 0-1.04.2-1.43.59L10.3 9.45l-7.72 7.72c-.78.78-.78 2.05 0 2.83L4 21.41c.39.39.9.59 1.41.59.51 0 1.02-.2 1.41-.59l7.78-7.78 2.81-2.81c.8-.78.8-2.07 0-2.86zM5.41 20L4 18.59l7.72-7.72 1.47 1.35L5.41 20z\"/>\n",
              "  </svg>\n",
              "      </button>\n",
              "      \n",
              "  <style>\n",
              "    .colab-df-container {\n",
              "      display:flex;\n",
              "      flex-wrap:wrap;\n",
              "      gap: 12px;\n",
              "    }\n",
              "\n",
              "    .colab-df-convert {\n",
              "      background-color: #E8F0FE;\n",
              "      border: none;\n",
              "      border-radius: 50%;\n",
              "      cursor: pointer;\n",
              "      display: none;\n",
              "      fill: #1967D2;\n",
              "      height: 32px;\n",
              "      padding: 0 0 0 0;\n",
              "      width: 32px;\n",
              "    }\n",
              "\n",
              "    .colab-df-convert:hover {\n",
              "      background-color: #E2EBFA;\n",
              "      box-shadow: 0px 1px 2px rgba(60, 64, 67, 0.3), 0px 1px 3px 1px rgba(60, 64, 67, 0.15);\n",
              "      fill: #174EA6;\n",
              "    }\n",
              "\n",
              "    [theme=dark] .colab-df-convert {\n",
              "      background-color: #3B4455;\n",
              "      fill: #D2E3FC;\n",
              "    }\n",
              "\n",
              "    [theme=dark] .colab-df-convert:hover {\n",
              "      background-color: #434B5C;\n",
              "      box-shadow: 0px 1px 3px 1px rgba(0, 0, 0, 0.15);\n",
              "      filter: drop-shadow(0px 1px 2px rgba(0, 0, 0, 0.3));\n",
              "      fill: #FFFFFF;\n",
              "    }\n",
              "  </style>\n",
              "\n",
              "      <script>\n",
              "        const buttonEl =\n",
              "          document.querySelector('#df-92161565-a55e-4cbd-b992-187df4c598c1 button.colab-df-convert');\n",
              "        buttonEl.style.display =\n",
              "          google.colab.kernel.accessAllowed ? 'block' : 'none';\n",
              "\n",
              "        async function convertToInteractive(key) {\n",
              "          const element = document.querySelector('#df-92161565-a55e-4cbd-b992-187df4c598c1');\n",
              "          const dataTable =\n",
              "            await google.colab.kernel.invokeFunction('convertToInteractive',\n",
              "                                                     [key], {});\n",
              "          if (!dataTable) return;\n",
              "\n",
              "          const docLinkHtml = 'Like what you see? Visit the ' +\n",
              "            '<a target=\"_blank\" href=https://colab.research.google.com/notebooks/data_table.ipynb>data table notebook</a>'\n",
              "            + ' to learn more about interactive tables.';\n",
              "          element.innerHTML = '';\n",
              "          dataTable['output_type'] = 'display_data';\n",
              "          await google.colab.output.renderOutput(dataTable, element);\n",
              "          const docLink = document.createElement('div');\n",
              "          docLink.innerHTML = docLinkHtml;\n",
              "          element.appendChild(docLink);\n",
              "        }\n",
              "      </script>\n",
              "    </div>\n",
              "  </div>\n",
              "  "
            ]
          },
          "metadata": {},
          "execution_count": 41
        }
      ],
      "source": [
        "pd.pivot_table(austo.Make, austo.Personal_loan, values=austo.Price, aggfunc=np.sum, normalize='all', margins=True)"
      ]
    },
    {
      "cell_type": "markdown",
      "source": [
        "<font color='red'>\n",
        "<font size=5>\n",
        "Observation:\n",
        "<font color='black'>\n",
        "<font size=3>\n",
        "<br>\n",
        "1. Although there are almost equal no of customers with or without Personal_loan but it has an impact on the sales & purchase pattern.\n",
        "<br>\n",
        "2. Customers with personal loan has a pattern of purchasing SUV. This can also be the fact that they generally took a personal loan to purchase SEDAN\n",
        "3. Customers with Personal Loan prefers to buy Sedan or Hatchback but when incase of SUV they generally has a pattern of purchasing low end models."
      ],
      "metadata": {
        "id": "FzUKr6wQTxZb"
      },
      "id": "FzUKr6wQTxZb"
    },
    {
      "cell_type": "markdown",
      "id": "595c6306",
      "metadata": {
        "id": "595c6306"
      },
      "source": [
        "<font color='blue'>\n",
        "<font size=5>\n",
        "--> Working Partner leads to the purchase of High Price Cars"
      ]
    },
    {
      "cell_type": "code",
      "source": [
        "#count the no of partner_working\n",
        "austo.Partner_working.value_counts()"
      ],
      "metadata": {
        "colab": {
          "base_uri": "https://localhost:8080/"
        },
        "id": "ptKleRX5rfVK",
        "outputId": "69faa40d-9ce7-44e4-c33a-dafb8775e045"
      },
      "id": "ptKleRX5rfVK",
      "execution_count": 44,
      "outputs": [
        {
          "output_type": "execute_result",
          "data": {
            "text/plain": [
              "Yes    868\n",
              "No     713\n",
              "Name: Partner_working, dtype: int64"
            ]
          },
          "metadata": {},
          "execution_count": 44
        }
      ]
    },
    {
      "cell_type": "code",
      "execution_count": 55,
      "id": "e62cd300",
      "metadata": {
        "id": "e62cd300",
        "outputId": "7686dcc2-d7f4-4e95-9db9-cd5b6d8c9ddd",
        "colab": {
          "base_uri": "https://localhost:8080/",
          "height": 269
        }
      },
      "outputs": [
        {
          "output_type": "execute_result",
          "data": {
            "text/plain": [
              "                               Make\n",
              "Partner_working Make               \n",
              "No              Sedan      0.403927\n",
              "                Hatchback  0.394109\n",
              "                SUV        0.201964\n",
              "Yes             Sedan      0.476959\n",
              "                Hatchback  0.346774\n",
              "                SUV        0.176267"
            ],
            "text/html": [
              "\n",
              "  <div id=\"df-32c06e36-e308-4ff8-91e4-82aab4be50df\">\n",
              "    <div class=\"colab-df-container\">\n",
              "      <div>\n",
              "<style scoped>\n",
              "    .dataframe tbody tr th:only-of-type {\n",
              "        vertical-align: middle;\n",
              "    }\n",
              "\n",
              "    .dataframe tbody tr th {\n",
              "        vertical-align: top;\n",
              "    }\n",
              "\n",
              "    .dataframe thead th {\n",
              "        text-align: right;\n",
              "    }\n",
              "</style>\n",
              "<table border=\"1\" class=\"dataframe\">\n",
              "  <thead>\n",
              "    <tr style=\"text-align: right;\">\n",
              "      <th></th>\n",
              "      <th></th>\n",
              "      <th>Make</th>\n",
              "    </tr>\n",
              "    <tr>\n",
              "      <th>Partner_working</th>\n",
              "      <th>Make</th>\n",
              "      <th></th>\n",
              "    </tr>\n",
              "  </thead>\n",
              "  <tbody>\n",
              "    <tr>\n",
              "      <th rowspan=\"3\" valign=\"top\">No</th>\n",
              "      <th>Sedan</th>\n",
              "      <td>0.403927</td>\n",
              "    </tr>\n",
              "    <tr>\n",
              "      <th>Hatchback</th>\n",
              "      <td>0.394109</td>\n",
              "    </tr>\n",
              "    <tr>\n",
              "      <th>SUV</th>\n",
              "      <td>0.201964</td>\n",
              "    </tr>\n",
              "    <tr>\n",
              "      <th rowspan=\"3\" valign=\"top\">Yes</th>\n",
              "      <th>Sedan</th>\n",
              "      <td>0.476959</td>\n",
              "    </tr>\n",
              "    <tr>\n",
              "      <th>Hatchback</th>\n",
              "      <td>0.346774</td>\n",
              "    </tr>\n",
              "    <tr>\n",
              "      <th>SUV</th>\n",
              "      <td>0.176267</td>\n",
              "    </tr>\n",
              "  </tbody>\n",
              "</table>\n",
              "</div>\n",
              "      <button class=\"colab-df-convert\" onclick=\"convertToInteractive('df-32c06e36-e308-4ff8-91e4-82aab4be50df')\"\n",
              "              title=\"Convert this dataframe to an interactive table.\"\n",
              "              style=\"display:none;\">\n",
              "        \n",
              "  <svg xmlns=\"http://www.w3.org/2000/svg\" height=\"24px\"viewBox=\"0 0 24 24\"\n",
              "       width=\"24px\">\n",
              "    <path d=\"M0 0h24v24H0V0z\" fill=\"none\"/>\n",
              "    <path d=\"M18.56 5.44l.94 2.06.94-2.06 2.06-.94-2.06-.94-.94-2.06-.94 2.06-2.06.94zm-11 1L8.5 8.5l.94-2.06 2.06-.94-2.06-.94L8.5 2.5l-.94 2.06-2.06.94zm10 10l.94 2.06.94-2.06 2.06-.94-2.06-.94-.94-2.06-.94 2.06-2.06.94z\"/><path d=\"M17.41 7.96l-1.37-1.37c-.4-.4-.92-.59-1.43-.59-.52 0-1.04.2-1.43.59L10.3 9.45l-7.72 7.72c-.78.78-.78 2.05 0 2.83L4 21.41c.39.39.9.59 1.41.59.51 0 1.02-.2 1.41-.59l7.78-7.78 2.81-2.81c.8-.78.8-2.07 0-2.86zM5.41 20L4 18.59l7.72-7.72 1.47 1.35L5.41 20z\"/>\n",
              "  </svg>\n",
              "      </button>\n",
              "      \n",
              "  <style>\n",
              "    .colab-df-container {\n",
              "      display:flex;\n",
              "      flex-wrap:wrap;\n",
              "      gap: 12px;\n",
              "    }\n",
              "\n",
              "    .colab-df-convert {\n",
              "      background-color: #E8F0FE;\n",
              "      border: none;\n",
              "      border-radius: 50%;\n",
              "      cursor: pointer;\n",
              "      display: none;\n",
              "      fill: #1967D2;\n",
              "      height: 32px;\n",
              "      padding: 0 0 0 0;\n",
              "      width: 32px;\n",
              "    }\n",
              "\n",
              "    .colab-df-convert:hover {\n",
              "      background-color: #E2EBFA;\n",
              "      box-shadow: 0px 1px 2px rgba(60, 64, 67, 0.3), 0px 1px 3px 1px rgba(60, 64, 67, 0.15);\n",
              "      fill: #174EA6;\n",
              "    }\n",
              "\n",
              "    [theme=dark] .colab-df-convert {\n",
              "      background-color: #3B4455;\n",
              "      fill: #D2E3FC;\n",
              "    }\n",
              "\n",
              "    [theme=dark] .colab-df-convert:hover {\n",
              "      background-color: #434B5C;\n",
              "      box-shadow: 0px 1px 3px 1px rgba(0, 0, 0, 0.15);\n",
              "      filter: drop-shadow(0px 1px 2px rgba(0, 0, 0, 0.3));\n",
              "      fill: #FFFFFF;\n",
              "    }\n",
              "  </style>\n",
              "\n",
              "      <script>\n",
              "        const buttonEl =\n",
              "          document.querySelector('#df-32c06e36-e308-4ff8-91e4-82aab4be50df button.colab-df-convert');\n",
              "        buttonEl.style.display =\n",
              "          google.colab.kernel.accessAllowed ? 'block' : 'none';\n",
              "\n",
              "        async function convertToInteractive(key) {\n",
              "          const element = document.querySelector('#df-32c06e36-e308-4ff8-91e4-82aab4be50df');\n",
              "          const dataTable =\n",
              "            await google.colab.kernel.invokeFunction('convertToInteractive',\n",
              "                                                     [key], {});\n",
              "          if (!dataTable) return;\n",
              "\n",
              "          const docLinkHtml = 'Like what you see? Visit the ' +\n",
              "            '<a target=\"_blank\" href=https://colab.research.google.com/notebooks/data_table.ipynb>data table notebook</a>'\n",
              "            + ' to learn more about interactive tables.';\n",
              "          element.innerHTML = '';\n",
              "          dataTable['output_type'] = 'display_data';\n",
              "          await google.colab.output.renderOutput(dataTable, element);\n",
              "          const docLink = document.createElement('div');\n",
              "          docLink.innerHTML = docLinkHtml;\n",
              "          element.appendChild(docLink);\n",
              "        }\n",
              "      </script>\n",
              "    </div>\n",
              "  </div>\n",
              "  "
            ]
          },
          "metadata": {},
          "execution_count": 55
        }
      ],
      "source": [
        "pd.DataFrame(austo.groupby('Partner_working')['Make'].value_counts(normalize=True))"
      ]
    },
    {
      "cell_type": "code",
      "execution_count": 63,
      "id": "e37749bd",
      "metadata": {
        "id": "e37749bd",
        "outputId": "d6cf9c2f-c12e-4033-df08-a5a8946a59ea",
        "colab": {
          "base_uri": "https://localhost:8080/",
          "height": 291
        }
      },
      "outputs": [
        {
          "output_type": "display_data",
          "data": {
            "text/plain": [
              "<Figure size 432x288 with 1 Axes>"
            ],
            "image/png": "[encoded data removed]"
          },
          "metadata": {
            "needs_background": "light"
          }
        }
      ],
      "source": [
        "sns.barplot(x='Partner_working', y='Price', hue='Make', estimator=np.sum, ci=None, data=austo);"
      ]
    },
    {
      "cell_type": "markdown",
      "id": "d9929b19",
      "metadata": {
        "id": "d9929b19"
      },
      "source": [
        "- Purchase pattern of High priced Car does not, depend on the parameter of Partner_working.\n",
        "- 47% of the Customers whose partners are working purchased Sedan followed by 34% of same category purchased Hatchback\n",
        "- Whereas same trend is noticed for the Customers whose partner are not working. Almost 40% of Sedan & 40% of Hatchback are purchased by the customers whose partner are not working.\n",
        "\n",
        "- HENCE WORKING PARTNER DOES NOT LEAD TO CHANGE IN PURCHASE PATTERN."
      ]
    },
    {
      "cell_type": "markdown",
      "id": "28c580ae",
      "metadata": {
        "id": "28c580ae"
      },
      "source": [
        "<font color='blue'>\n",
        "<font size=5>\n",
        "The main objective of this analysis is to devise an improved marketing strategy to send targeted information to different groups of potential buyers present in the data. For the current analysis use the Gender and Marital_status - fields to arrive at groups with similar purchase history."
      ]
    },
    {
      "cell_type": "code",
      "execution_count": 58,
      "id": "e7e5dc91",
      "metadata": {
        "id": "e7e5dc91",
        "outputId": "66e9813a-b5c8-4dd8-b2a2-4cdbaf29b1b8",
        "colab": {
          "base_uri": "https://localhost:8080/",
          "height": 457
        }
      },
      "outputs": [
        {
          "output_type": "execute_result",
          "data": {
            "text/plain": [
              "                                    Price\n",
              "Gender Marital_status Make               \n",
              "Female Married        Hatchback    392000\n",
              "                      SUV         8849000\n",
              "                      Sedan       5470000\n",
              "       Single         Hatchback     20000\n",
              "                      SUV          403000\n",
              "                      Sedan        561000\n",
              "Male   Married        Hatchback  12886000\n",
              "                      SUV         6810000\n",
              "                      Sedan      17253000\n",
              "       Single         Hatchback   2110000\n",
              "                      SUV          518000\n",
              "                      Sedan       1008000"
            ],
            "text/html": [
              "\n",
              "  <div id=\"df-033eae2c-f4bf-4e9d-bc2a-a5572a9745fe\">\n",
              "    <div class=\"colab-df-container\">\n",
              "      <div>\n",
              "<style scoped>\n",
              "    .dataframe tbody tr th:only-of-type {\n",
              "        vertical-align: middle;\n",
              "    }\n",
              "\n",
              "    .dataframe tbody tr th {\n",
              "        vertical-align: top;\n",
              "    }\n",
              "\n",
              "    .dataframe thead th {\n",
              "        text-align: right;\n",
              "    }\n",
              "</style>\n",
              "<table border=\"1\" class=\"dataframe\">\n",
              "  <thead>\n",
              "    <tr style=\"text-align: right;\">\n",
              "      <th></th>\n",
              "      <th></th>\n",
              "      <th></th>\n",
              "      <th>Price</th>\n",
              "    </tr>\n",
              "    <tr>\n",
              "      <th>Gender</th>\n",
              "      <th>Marital_status</th>\n",
              "      <th>Make</th>\n",
              "      <th></th>\n",
              "    </tr>\n",
              "  </thead>\n",
              "  <tbody>\n",
              "    <tr>\n",
              "      <th rowspan=\"6\" valign=\"top\">Female</th>\n",
              "      <th rowspan=\"3\" valign=\"top\">Married</th>\n",
              "      <th>Hatchback</th>\n",
              "      <td>392000</td>\n",
              "    </tr>\n",
              "    <tr>\n",
              "      <th>SUV</th>\n",
              "      <td>8849000</td>\n",
              "    </tr>\n",
              "    <tr>\n",
              "      <th>Sedan</th>\n",
              "      <td>5470000</td>\n",
              "    </tr>\n",
              "    <tr>\n",
              "      <th rowspan=\"3\" valign=\"top\">Single</th>\n",
              "      <th>Hatchback</th>\n",
              "      <td>20000</td>\n",
              "    </tr>\n",
              "    <tr>\n",
              "      <th>SUV</th>\n",
              "      <td>403000</td>\n",
              "    </tr>\n",
              "    <tr>\n",
              "      <th>Sedan</th>\n",
              "      <td>561000</td>\n",
              "    </tr>\n",
              "    <tr>\n",
              "      <th rowspan=\"6\" valign=\"top\">Male</th>\n",
              "      <th rowspan=\"3\" valign=\"top\">Married</th>\n",
              "      <th>Hatchback</th>\n",
              "      <td>12886000</td>\n",
              "    </tr>\n",
              "    <tr>\n",
              "      <th>SUV</th>\n",
              "      <td>6810000</td>\n",
              "    </tr>\n",
              "    <tr>\n",
              "      <th>Sedan</th>\n",
              "      <td>17253000</td>\n",
              "    </tr>\n",
              "    <tr>\n",
              "      <th rowspan=\"3\" valign=\"top\">Single</th>\n",
              "      <th>Hatchback</th>\n",
              "      <td>2110000</td>\n",
              "    </tr>\n",
              "    <tr>\n",
              "      <th>SUV</th>\n",
              "      <td>518000</td>\n",
              "    </tr>\n",
              "    <tr>\n",
              "      <th>Sedan</th>\n",
              "      <td>1008000</td>\n",
              "    </tr>\n",
              "  </tbody>\n",
              "</table>\n",
              "</div>\n",
              "      <button class=\"colab-df-convert\" onclick=\"convertToInteractive('df-033eae2c-f4bf-4e9d-bc2a-a5572a9745fe')\"\n",
              "              title=\"Convert this dataframe to an interactive table.\"\n",
              "              style=\"display:none;\">\n",
              "        \n",
              "  <svg xmlns=\"http://www.w3.org/2000/svg\" height=\"24px\"viewBox=\"0 0 24 24\"\n",
              "       width=\"24px\">\n",
              "    <path d=\"M0 0h24v24H0V0z\" fill=\"none\"/>\n",
              "    <path d=\"M18.56 5.44l.94 2.06.94-2.06 2.06-.94-2.06-.94-.94-2.06-.94 2.06-2.06.94zm-11 1L8.5 8.5l.94-2.06 2.06-.94-2.06-.94L8.5 2.5l-.94 2.06-2.06.94zm10 10l.94 2.06.94-2.06 2.06-.94-2.06-.94-.94-2.06-.94 2.06-2.06.94z\"/><path d=\"M17.41 7.96l-1.37-1.37c-.4-.4-.92-.59-1.43-.59-.52 0-1.04.2-1.43.59L10.3 9.45l-7.72 7.72c-.78.78-.78 2.05 0 2.83L4 21.41c.39.39.9.59 1.41.59.51 0 1.02-.2 1.41-.59l7.78-7.78 2.81-2.81c.8-.78.8-2.07 0-2.86zM5.41 20L4 18.59l7.72-7.72 1.47 1.35L5.41 20z\"/>\n",
              "  </svg>\n",
              "      </button>\n",
              "      \n",
              "  <style>\n",
              "    .colab-df-container {\n",
              "      display:flex;\n",
              "      flex-wrap:wrap;\n",
              "      gap: 12px;\n",
              "    }\n",
              "\n",
              "    .colab-df-convert {\n",
              "      background-color: #E8F0FE;\n",
              "      border: none;\n",
              "      border-radius: 50%;\n",
              "      cursor: pointer;\n",
              "      display: none;\n",
              "      fill: #1967D2;\n",
              "      height: 32px;\n",
              "      padding: 0 0 0 0;\n",
              "      width: 32px;\n",
              "    }\n",
              "\n",
              "    .colab-df-convert:hover {\n",
              "      background-color: #E2EBFA;\n",
              "      box-shadow: 0px 1px 2px rgba(60, 64, 67, 0.3), 0px 1px 3px 1px rgba(60, 64, 67, 0.15);\n",
              "      fill: #174EA6;\n",
              "    }\n",
              "\n",
              "    [theme=dark] .colab-df-convert {\n",
              "      background-color: #3B4455;\n",
              "      fill: #D2E3FC;\n",
              "    }\n",
              "\n",
              "    [theme=dark] .colab-df-convert:hover {\n",
              "      background-color: #434B5C;\n",
              "      box-shadow: 0px 1px 3px 1px rgba(0, 0, 0, 0.15);\n",
              "      filter: drop-shadow(0px 1px 2px rgba(0, 0, 0, 0.3));\n",
              "      fill: #FFFFFF;\n",
              "    }\n",
              "  </style>\n",
              "\n",
              "      <script>\n",
              "        const buttonEl =\n",
              "          document.querySelector('#df-033eae2c-f4bf-4e9d-bc2a-a5572a9745fe button.colab-df-convert');\n",
              "        buttonEl.style.display =\n",
              "          google.colab.kernel.accessAllowed ? 'block' : 'none';\n",
              "\n",
              "        async function convertToInteractive(key) {\n",
              "          const element = document.querySelector('#df-033eae2c-f4bf-4e9d-bc2a-a5572a9745fe');\n",
              "          const dataTable =\n",
              "            await google.colab.kernel.invokeFunction('convertToInteractive',\n",
              "                                                     [key], {});\n",
              "          if (!dataTable) return;\n",
              "\n",
              "          const docLinkHtml = 'Like what you see? Visit the ' +\n",
              "            '<a target=\"_blank\" href=https://colab.research.google.com/notebooks/data_table.ipynb>data table notebook</a>'\n",
              "            + ' to learn more about interactive tables.';\n",
              "          element.innerHTML = '';\n",
              "          dataTable['output_type'] = 'display_data';\n",
              "          await google.colab.output.renderOutput(dataTable, element);\n",
              "          const docLink = document.createElement('div');\n",
              "          docLink.innerHTML = docLinkHtml;\n",
              "          element.appendChild(docLink);\n",
              "        }\n",
              "      </script>\n",
              "    </div>\n",
              "  </div>\n",
              "  "
            ]
          },
          "metadata": {},
          "execution_count": 58
        }
      ],
      "source": [
        "pd.DataFrame(austo.groupby(['Gender', 'Marital_status', 'Make']).Price.sum())"
      ]
    },
    {
      "cell_type": "code",
      "execution_count": 56,
      "id": "f09c9770",
      "metadata": {
        "id": "f09c9770",
        "outputId": "825dda13-cd97-48f5-fcf0-3b3912063f43",
        "colab": {
          "base_uri": "https://localhost:8080/",
          "height": 369
        }
      },
      "outputs": [
        {
          "output_type": "display_data",
          "data": {
            "text/plain": [
              "<Figure size 809x360 with 2 Axes>"
            ],
            "image/png": "[encoded data removed]"
          },
          "metadata": {
            "needs_background": "light"
          }
        }
      ],
      "source": [
        "G1 = sns.catplot(x=\"Marital_status\", hue=\"Make\", col=\"Gender\", data=austo, kind=\"count\");"
      ]
    },
    {
      "cell_type": "markdown",
      "id": "ef75f6fb",
      "metadata": {
        "id": "ef75f6fb"
      },
      "source": [
        "- Married Males are the prime customers of the company who majorly contributes in Revenue Generation by purchasing Sedan followed by Hatch Back\n",
        "- Married Women have a tendency to buy SUV followed by Sedan\n",
        "- Non Married Men have a potential users of Hatchback and buys this segment of the car other than any other segment\n",
        "- Non Married Women usually buys Sedan, followed by SUV and very few have buyed the  Hatchback Car"
      ]
    },
    {
      "cell_type": "markdown",
      "id": "ac646621",
      "metadata": {
        "id": "ac646621"
      },
      "source": [
        "<font color='Green'>\n",
        "<font size=7>\n",
        "Thank You\n",
        "</font>"
      ]
    }
  ],
  "metadata": {
    "kernelspec": {
      "display_name": "Python 3 (ipykernel)",
      "language": "python",
      "name": "python3"
    },
    "language_info": {
      "codemirror_mode": {
        "name": "ipython",
        "version": 3
      },
      "file_extension": ".py",
      "mimetype": "text/x-python",
      "name": "python",
      "nbconvert_exporter": "python",
      "pygments_lexer": "ipython3",
      "version": "3.9.12"
    },
    "colab": {
      "provenance": [],
      "include_colab_link": true
    }
  },
  "nbformat": 4,
  "nbformat_minor": 5
}